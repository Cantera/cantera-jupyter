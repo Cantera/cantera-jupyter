{
 "cells": [
  {
   "cell_type": "markdown",
   "metadata": {},
   "source": [
    "# Conversion of CHEMKIN Data\n",
    "\n",
    "This notebook illustrates the conversion of CHEMKIN input files to Cantera YAML input files. The conversion utility `ck2yaml` is run as a shell command (using the exclamation mark `!` magic shortcut). \n",
    "\n",
    "The YAML files produced with this notebook are close re-recreations of Cantera input files; `_demo` is added to differentiate from the original YAML files:\n",
    "\n",
    "**GRI-Mech 3.0 derived:**\n",
    " * `gri30_demo.yaml`\n",
    " * `h2o2_demo.yaml`\n",
    " * `air_demo.yaml`\n",
    " * `argon_demo.yaml`\n",
    "\n",
    "**NASA derived:**\n",
    " * `airNASA9_demo.yaml`\n",
    " * `nasa_demo.yaml`\n",
    "\n",
    "All CHEMKIN input files are stored in the `chemkin` subfolder; the `--extra` flag is used to update file descriptions to match YAML files from Cantera 2.5.\n",
    "\n",
    "**Requires:** cantera >= 2.5.0"
   ]
  },
  {
   "cell_type": "code",
   "execution_count": 1,
   "metadata": {},
   "outputs": [
    {
     "name": "stdout",
     "output_type": "stream",
     "text": [
      "\r\n",
      "ck2yaml.py: Convert Chemkin-format mechanisms to Cantera YAML input files\r\n",
      "\r\n",
      "Usage:\r\n",
      "    ck2yaml [--input=<filename>]\r\n",
      "            [--thermo=<filename>]\r\n",
      "            [--transport=<filename>]\r\n",
      "            [--surface=<filename>]\r\n",
      "            [--name=<name>]\r\n",
      "            [--extra=<filename>]\r\n",
      "            [--output=<filename>]\r\n",
      "            [--permissive]\r\n",
      "            [--quiet]\r\n",
      "            [--no-validate]\r\n",
      "            [-d | --debug]\r\n",
      "\r\n",
      "Example:\r\n",
      "    ck2yaml --input=chem.inp --thermo=therm.dat --transport=tran.dat\r\n",
      "\r\n",
      "If the output file name is not given, an output file with the same name as the\r\n",
      "input file, with the extension changed to '.yaml'.\r\n",
      "\r\n",
      "An input file containing only species definitions (which can be referenced from\r\n",
      "phase definitions in other input files) can be created by specifying only a\r\n",
      "thermo file.\r\n",
      "\r\n",
      "For the case of a surface mechanism, the gas phase input file should be\r\n",
      "specified as 'input' and the surface phase input file should be specified as\r\n",
      "'surface'.\r\n",
      "\r\n",
      "The '--permissive' option allows certain recoverable parsing errors (e.g.\r\n",
      "duplicate transport data) to be ignored. The '--name=<name>' option\r\n",
      "is used to override default phase names (i.e. 'gas').\r\n",
      "\r\n",
      "The '--extra=<filename>' option takes a YAML file as input. This option can be\r\n",
      "used to add to the file description, or to define custom fields that are\r\n",
      "included in the YAML output.\r\n",
      "\r\n"
     ]
    }
   ],
   "source": [
    "# display ck2yaml help text\n",
    "! ck2yaml --help"
   ]
  },
  {
   "cell_type": "markdown",
   "metadata": {},
   "source": [
    "## 1. YAML files based on GRI-Mech 3.0"
   ]
  },
  {
   "cell_type": "markdown",
   "metadata": {},
   "source": [
    "### 1.1 Input file `gri30.yaml`\n",
    "\n",
    "> **Notes:** `gri30.inp` uses the final version of GRI30.mech (slightly different from Cantera 2.4, and updated for 2.5), other CHEMKIN input is identical to files distributed with Cantera 2.4 (see `data` folder); output does not contain phases marked as `deprecated` in 2.5."
   ]
  },
  {
   "cell_type": "code",
   "execution_count": 2,
   "metadata": {},
   "outputs": [
    {
     "name": "stdout",
     "output_type": "stream",
     "text": [
      "Wrote YAML mechanism file to 'gri30_demo.yaml'.\n",
      "Mechanism contains 53 species and 325 reactions.\n",
      "Validating mechanism...\n",
      "PASSED\n"
     ]
    }
   ],
   "source": [
    "! ck2yaml --input=chemkin/gri30.inp --thermo=chemkin/gri30_thermo.dat --transport=chemkin/gri30_tran.dat \\\n",
    "--extra=chemkin/gri30_extra.yaml --output=gri30_demo.yaml --name=gri30"
   ]
  },
  {
   "cell_type": "markdown",
   "metadata": {},
   "source": [
    "### 1.2 Input file `h2o2.yaml`\n",
    "\n",
    "> **Notes:** CHEMKIN input is identical to files distributed with Cantera 2.4 (see `data` folder)."
   ]
  },
  {
   "cell_type": "code",
   "execution_count": 3,
   "metadata": {},
   "outputs": [
    {
     "name": "stdout",
     "output_type": "stream",
     "text": [
      "Wrote YAML mechanism file to 'h2o2_demo.yaml'.\r\n",
      "Mechanism contains 9 species and 28 reactions.\r\n",
      "Validating mechanism...\r\n",
      "PASSED\r\n"
     ]
    }
   ],
   "source": [
    "# options for h2o2.yaml\n",
    "! ck2yaml --input=chemkin/h2o2.inp --transport=chemkin/gri30_tran.dat \\\n",
    "--extra=chemkin/h2o2_extra.yaml --output=h2o2_demo.yaml --name=ohmech"
   ]
  },
  {
   "cell_type": "markdown",
   "metadata": {},
   "source": [
    "### 1.3 Input file `air.yaml`\n",
    "\n",
    "> **Notes:** CHEMKIN input is identical to files distributed with Cantera 2.4 (see `data` folder); the default composition is not set. The `--quiet` option suppresses warnings about unexpected/unused species in thermo data)."
   ]
  },
  {
   "cell_type": "code",
   "execution_count": 4,
   "metadata": {},
   "outputs": [],
   "source": [
    "# options for air.yaml\n",
    "! ck2yaml --input=chemkin/air.inp --thermo=chemkin/gri30_thermo.dat --transport=chemkin/gri30_tran.dat \\\n",
    "--extra=chemkin/air_extra.yaml --output=air_demo.yaml --name=air --quiet"
   ]
  },
  {
   "cell_type": "markdown",
   "metadata": {},
   "source": [
    "### 1.4 Input file `argon.yaml`\n",
    "\n",
    "> **Notes:** CHEMKIN input is identical to files distributed with Cantera 2.4 (see `data` folder); YAML output does not contain the `deprecated` field added in Cantera 2.5. The `--quiet` option suppresses warnings about unexpected/unused species in thermo data)."
   ]
  },
  {
   "cell_type": "code",
   "execution_count": 5,
   "metadata": {},
   "outputs": [],
   "source": [
    "# options for argon.yaml\n",
    "! ck2yaml --input=chemkin/argon.inp --thermo=chemkin/gri30_thermo.dat --transport=chemkin/gri30_tran.dat \\\n",
    "--extra=chemkin/argon_extra.yaml --output=argon_demo.yaml --quiet"
   ]
  },
  {
   "cell_type": "markdown",
   "metadata": {},
   "source": [
    "## 2. YAML files based on NASA Thermodynamic databases"
   ]
  },
  {
   "cell_type": "markdown",
   "metadata": {},
   "source": [
    "### 2.1 Input file `nasa.yaml`\n",
    "\n",
    "> **Notes:** CHEMKIN input is identical to `data/thermo/nasathermo.dat` distributed with Cantera 2.4, except for moving the `THERMO` block to ensure correct parsing of the file description."
   ]
  },
  {
   "cell_type": "code",
   "execution_count": 6,
   "metadata": {},
   "outputs": [
    {
     "name": "stdout",
     "output_type": "stream",
     "text": [
      "Found additional thermo entry for species (HCOOH)2. If --permissive was given, the first entry is used.\n",
      "Found additional thermo entry for species Br2(L). If --permissive was given, the first entry is used.\n",
      "Found additional thermo entry for species Cr(cr). If --permissive was given, the first entry is used.\n",
      "Found additional thermo entry for species Fe(a). If --permissive was given, the first entry is used.\n",
      "Found additional thermo entry for species Ni(cr). If --permissive was given, the first entry is used.\n",
      "Found additional thermo entry for species ZnSO4(a). If --permissive was given, the first entry is used.\n",
      "Wrote YAML mechanism file to 'nasa_demo.yaml'.\n",
      "Mechanism contains 1130 species and 0 reactions.\n"
     ]
    }
   ],
   "source": [
    "# options for nasa.yaml (the --permissive suppresses an error due to duplicate thermo entries)\n",
    "! ck2yaml --thermo=chemkin/nasathermo.dat --output=nasa_demo.yaml --permissive"
   ]
  },
  {
   "cell_type": "markdown",
   "metadata": {},
   "source": [
    "### 2.2 Input file `airNASA9.yaml`\n",
    "\n",
    "> **Notes:** CHEMKIN input is identical to `data/thermo/airDataNASA9.dat` distributed with Cantera 2.4."
   ]
  },
  {
   "cell_type": "code",
   "execution_count": 7,
   "metadata": {},
   "outputs": [
    {
     "name": "stdout",
     "output_type": "stream",
     "text": [
      "Wrote YAML mechanism file to 'airNASA9_demo.yaml'.\r\n",
      "Mechanism contains 11 species and 0 reactions.\r\n",
      "Validating mechanism...\r\n",
      "PASSED\r\n"
     ]
    }
   ],
   "source": [
    "# options for airNASA9.yaml\n",
    "! ck2yaml --input=chemkin/airNASA9.inp --thermo=chemkin/airDataNASA9.dat \\\n",
    "--output=airNASA9_demo.yaml --name=airNASA9"
   ]
  },
  {
   "cell_type": "code",
   "execution_count": null,
   "metadata": {},
   "outputs": [],
   "source": []
  }
 ],
 "metadata": {
  "kernelspec": {
   "display_name": "Python 3",
   "language": "python",
   "name": "python3"
  },
  "language_info": {
   "codemirror_mode": {
    "name": "ipython",
    "version": 3
   },
   "file_extension": ".py",
   "mimetype": "text/x-python",
   "name": "python",
   "nbconvert_exporter": "python",
   "pygments_lexer": "ipython3",
   "version": "3.8.5"
  }
 },
 "nbformat": 4,
 "nbformat_minor": 2
}
