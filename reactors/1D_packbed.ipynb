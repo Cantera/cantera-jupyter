{
 "cells": [
  {
   "cell_type": "markdown",
   "metadata": {},
   "source": [
    "# One-dimensional Packed-bed reactor model without streamwise diffusion"
   ]
  },
  {
   "cell_type": "markdown",
   "metadata": {},
   "source": [
    "The present model simulates heterogeneous catalytic processes inside packed-bed, catalytic membrane reactors. The gas-phase and surface-phase species conservation equations are derived and the system of differential-algebraic equations (DAE) is solved using the scikits.odes.dae IDA solver."
   ]
  },
  {
   "cell_type": "code",
   "execution_count": 1,
   "metadata": {},
   "outputs": [
    {
     "name": "stdout",
     "output_type": "stream",
     "text": [
      "Runnning Cantera version: 2.6.0a4\n"
     ]
    }
   ],
   "source": [
    "# Import Cantera and scikits\n",
    "from __future__ import print_function, division\n",
    "import numpy as np\n",
    "from scikits.odes import dae\n",
    "from scikits.odes.sundials import ida\n",
    "import cantera as ct\n",
    "import matplotlib.pyplot as plt\n",
    "%matplotlib inline\n",
    "print('Runnning Cantera version: ' + ct.__version__)"
   ]
  },
  {
   "cell_type": "markdown",
   "metadata": {},
   "source": [
    "## Catalytic membrane reactors"
   ]
  },
  {
   "cell_type": "code",
   "execution_count": null,
   "metadata": {},
   "outputs": [],
   "source": []
  },
  {
   "cell_type": "markdown",
   "metadata": {},
   "source": [
    "## Methodology\n",
    "\n",
    "One-dimensional, steady-state catalytic-membrane reactor code with surface chemistry is developed to analyze species profiles along the length of a packed-bed, catalytic membrane reactor. The same model can further be simplified to simulate a simple packed-bed reactor by excluding the membrane."
   ]
  },
  {
   "cell_type": "markdown",
   "metadata": {},
   "source": [
    "### Governing equations\n",
    "\n",
    "Assuming steady, isothermal, one-dimensional flow within the packed bed, total-mass and species mass conservation may be stated as~\\cite{KKZDK17}\n",
    "\n",
    "\\begin{equation} \n",
    "\\label{eq:mass_continuity_onepass}\n",
    "\\frac{{\\rm d}(\\rho u)}{{\\rm d}z} = \\sum_{k=1}^{K_{\\text{g}}} \\dot s_k W_k A_{\\text{s}} + \\frac{P_{\\rm b}}{A_{\\rm b}} \\sum_{k=1}^{k_{\\text{g}}} j_{k, {\\rm M}},\n",
    "\\end{equation}\n",
    "\\begin{equation} \n",
    "\\label{eq:species_continuity_onepass}\n",
    "\\rho u \\frac{{\\rm d}Y_k}{{\\rm d}z} + A_{\\text{s}} Y_k \\sum_{k=1}^{K_{\\text{g}}} \\dot s_k W_k  =  A_{\\rm s} \\dot s_k W_k +  \\frac{P_{\\rm b}}{A_{\\rm b}} j_{k, {\\rm M}}.\n",
    "\\end{equation}\n",
    "\n",
    "The fractional coverages of the $K_{\\rm s}$ surface adsorbates $\\theta_k$ must satisfy \n",
    "\\begin{equation}\n",
    "    \\dot s_k = 0,     {\\ \\ \\ \\ \\ \\ } (k = 1,\\ldots, K_{\\rm s}),\n",
    "    \\label{eq:sdotzero}\n",
    "\\end{equation}\n",
    "which, at steady state, requires no net production/consumption of surface species by the heterogeneous reactions ([Kee et al.]~\\cite{KCGZ18}.\n",
    "\n",
    "The independent variable in these conservation equations is the position $z$ along the reactor length.  The dependent variables include the superficial velocity $u$, the gas-phase mass fractions $Y_k$, and the surfaces coverages $\\theta_k$.  Gas-phase fluxes through the membrane are represented as $j_{k, {\\rm M}}$. Geometric parameters $A_{\\rm s}$, $P_{\\rm b}$, and $A_{\\rm b}$ represent the catalyst specific surface area (i.e., surface area per unit volume), reactor perimeter, and reactor cross-sectional flow area, respectively.  Other parameters include bed porosity $\\phi_{\\rm g}$ and gas-phase species molecular weights $W_k$. The gas density $\\rho$ is evaluated using the equation of state (ideal Eos, RK or PR EoS).\n",
    "\n",
    "The membrane flux is calculated using Sievert's law as\n",
    "\\begin{equation} \\label{eq:membraneFlux}\n",
    "j_{k_{\\rm M}}^{\\rm{Mem}} = \\frac{B_{k_{\\rm M}}}{t} \\left ( p_{k_{\\rm M}, {\\rm{mem}}}^\\alpha - p_{k_{\\rm M}, {sweep}}^\\alpha \\right ) W_{k_{\\rm M}}\n",
    "\\end{equation}\n",
    "where $B_{k_{\\rm M}}$ is the membrane permeability, $t$ is the membrane thickness. $p_{k_{\\rm M}, {mem}}$ and $p_{k_{\\rm M}, {sweep}}$ represent perm-selective species partial pressures within the packed-bed and the exterior sweep channel. The present model takes the pressure exponent $\\alpha$ to be unity. The present model also assumes $p_{k_{\\rm M}, {sweep}}=0$. The membrane flux for all other species ($ k \\neq k_{\\rm M}$) is zero.\n",
    "\n"
   ]
  },
  {
   "cell_type": "markdown",
   "metadata": {},
   "source": [
    "### Define gas-phase and surface-phase species"
   ]
  },
  {
   "cell_type": "code",
   "execution_count": 2,
   "metadata": {},
   "outputs": [
    {
     "name": "stdout",
     "output_type": "stream",
     "text": [
      "Number of variables =  7\n"
     ]
    }
   ],
   "source": [
    "# Import the reaction mechanism for Ammonia synthesis/decomposition on Ru-Ba/YSZ catalyst\n",
    "mechfile = 'data/Ammonia-Ru-Ba-YSZ.yaml'\n",
    "# Import the models for gas-phase\n",
    "gas = ct.Solution(mechfile, 'gas');\n",
    "# Import the model for surface-phase\n",
    "surf = ct.Interface(mechfile, 'Ru_surface', [gas]);\n",
    "\n",
    "# Other parameters\n",
    "n_gas = gas.n_species               # number of gas species\n",
    "n_surf = surf.n_species             # number of surface species\n",
    "n_gas_reactions = gas.n_reactions   # Number of gas-phase reactions\n",
    "\n",
    "# Set offsets\n",
    "offset_rhou = 0\n",
    "offset_p = 1\n",
    "offset_T = 2\n",
    "offset_Y = 3\n",
    "#offset_Z = offset_Y + n_gas\n",
    "#n_var = offset_Z + n_surf           # total number of variables (rhou, P, T, Yk and Zk)\n",
    "n_var = 3 + n_gas\n",
    "print(\"Number of variables = \", n_var)"
   ]
  },
  {
   "cell_type": "markdown",
   "metadata": {},
   "source": [
    "### Define reactor geometry and operating conditions"
   ]
  },
  {
   "cell_type": "code",
   "execution_count": 3,
   "metadata": {},
   "outputs": [],
   "source": [
    "# Inlet operating conditions\n",
    "T_in = 673                      # inlet temperature [K]             \n",
    "p_in = 5e5                      # inlet pressure [Pa]\n",
    "v_in = 0.01                     # inlet velocity [m/s]\n",
    "\n",
    "gas.TPX = T_in, p_in, \"NH3:1\"\n",
    "surf.TP = T_in, p_in\n",
    "Yk_0 = gas.Y\n",
    "rhou0 = gas.density * v_in\n",
    "\n",
    "# Reactor geometry\n",
    "L = 5e-2                        # length of the reactor\n",
    "phi = 0.6                       # porosity of the bed\n",
    "tau = 2.0                       # toruosity of the bed\n",
    "dp = 3.37e-4                    # particle diameter\n",
    "As = 1e8                        # specific surface area\n",
    "\n",
    "# Initial surface coverages\n",
    "surf.advance_coverages(1e10)    # Assuming the steady state is reached after 1000s.\n",
    "#surf.solve_psuedo_steady_state_problem(1,1)\n",
    "Zk_0 = surf.coverages\n",
    "\n",
    "# Get required properties based on the geometry and mechanism\n",
    "W_g = gas.molecular_weights                              # vector of molecular weight of gas species\n",
    "vol_ratio = phi/(1-phi)\n",
    "eff_factor = phi/tau                                     # effective factor for permeability calculation\n",
    "B_g = pow(vol_ratio, 2) * pow(dp, 2) * eff_factor / 72;  # permeability based on Kozeny-Carman equation"
   ]
  },
  {
   "cell_type": "markdown",
   "metadata": {},
   "source": [
    "### Define residual function"
   ]
  },
  {
   "cell_type": "code",
   "execution_count": 4,
   "metadata": {},
   "outputs": [],
   "source": [
    "def residual(z, y, yPrime, res):\n",
    "    \"\"\" Solution vector for the model\n",
    "        y = [rho*u, p, T, Yk, Zk]\n",
    "        yPrime = [d(rho*u)dz, dpdz, dTdz, dYkdz, dZkdz]\n",
    "    \"\"\"\n",
    "    # Get current thermodynamic state from solution vector and save it to local variables.\n",
    "    rhou = y[offset_rhou]               # mass flux (density * velocity)\n",
    "    Y = y[offset_Y:offset_Y + n_gas]    # vector of mass fractions of all gas species\n",
    "    #Z = y[offset_Z:offset_Z + n_surf]   # vector of site fractions of all surface species\n",
    "    p = y[offset_p]                     # pressure\n",
    "    T = y[offset_T]                     # temperature\n",
    "    #print(y)\n",
    "    \n",
    "    drhoudz = yPrime[offset_rhou]           # mass-flux spatial derivative\n",
    "    dYdz = yPrime[offset_Y:offset_Y+n_gas]  # mass fraction spatial derivative\n",
    "    #dZdz = yPrime[offset_Z:offset_Z+n_surf] # site fraction spatial derivative\n",
    "    dpdz = yPrime[offset_p]                 # pressure spatial derivative\n",
    "    dTdz = yPrime[offset_T]                 # temperature spatial derivative\n",
    "    \n",
    "    # Set current thermodynamic state for the gas and surface phases\n",
    "    # Note: use unnormalized mass fractions and site fractions to avoid over-constraining the system)\n",
    "    gas.set_unnormalized_mass_fractions(Y)\n",
    "    #gas.Y = Y\n",
    "    gas.TP = T,p\n",
    "    surf.TP = T,p\n",
    "    #surf.set_unnormalized_coverages(Z)\n",
    "    surf.advance_coverages(1e10)    # Assuming the steady state is reached after 1000s.\n",
    "    \n",
    "    # Calculate required variables based on the current state\n",
    "    coverages = surf.coverages                   # Surface site coverages\n",
    "    sdot_g = surf.net_production_rates[0:n_gas]             # heterogeneous production rate of gas species\n",
    "    sdot_s = surf.net_production_rates[n_gas:n_gas+n_surf]  # heterogeneous production rate of surface species\n",
    "    wdot_g = np.zeros(n_gas)\n",
    "    if n_gas_reactions > 0:\n",
    "        wdot_g = gas.net_production_rates        # homogeneous production rate of gas species\n",
    "    mu = gas.viscosity                           # viscosity of the gas-phase\n",
    "    \n",
    "    # Conservation of total-mass \n",
    "    res[offset_rhou] = drhoudz - (As*np.sum(sdot_g*W_g) + phi*np.sum(wdot_g*W_g))\n",
    "    sum_continuity = As*np.sum(sdot_g*W_g)       # temporary variable\n",
    "    #print(sdot_s)\n",
    "\n",
    "    # Conservation of gas-phase species\n",
    "    for k in range(n_gas):\n",
    "        res[offset_Y+k] = dYdz[k] + (Y[k]*sum_continuity\n",
    "                       - phi*wdot_g[k]*W_g[k] - As*sdot_g[k]*W_g[k])/rhou\n",
    "        #print(\"k\", k, \"y = \", Y[k], \"res = \", res[offset_Y+k])\n",
    "        \n",
    "    # Conservation of site fractions (algebraic contraints in this example)\n",
    "    #for k in range(n_surf):\n",
    "    #    res[offset_Z+k] = sdot_s[k]\n",
    "        \n",
    "    # For the species with largest site coverage, use the constraint sum(Zk) = 1\n",
    "    #ind_large = np.argmax(coverages)\n",
    "    #res[offset_Y+ind_large] = 1 - np.sum(coverages)\n",
    "    \n",
    "    # Conservation of momentum\n",
    "    u = rhou/gas.density\n",
    "    res[offset_p] = dpdz + phi*mu*u/B_g\n",
    "    #print(dpdz, res[offset_p])\n",
    "    \n",
    "    # Conservation of energy\n",
    "    res[offset_T] = dTdz - 0\n",
    "    \n",
    "    # Calculate density using equation of state\n",
    "    # rho = gas.density\n",
    "    \n",
    "    #print(\"y = \", y)\n",
    "    #print(\"res = \", res)"
   ]
  },
  {
   "cell_type": "markdown",
   "metadata": {},
   "source": [
    "### Set consistent initial conditions"
   ]
  },
  {
   "cell_type": "code",
   "execution_count": 5,
   "metadata": {},
   "outputs": [],
   "source": [
    "# Initialize yPrime to 0 \n",
    "#y0 = np.hstack((rhou0, p_in, T_in, Yk_0, Zk_0))\n",
    "y0 = np.hstack((rhou0, p_in, T_in, Yk_0))\n",
    "yprime0 = np.hstack(np.zeros(n_var))\n",
    "res = np.hstack(np.zeros(n_var))\n",
    "residual(0, y0, yprime0, res)\n",
    "for n in range(n_var):\n",
    "    yprime0[n] = -res[n]"
   ]
  },
  {
   "cell_type": "markdown",
   "metadata": {},
   "source": [
    "### Solve the system of DAEs using ida solver"
   ]
  },
  {
   "cell_type": "code",
   "execution_count": 11,
   "metadata": {},
   "outputs": [],
   "source": [
    "tempArray = np.ones(n_var)\n",
    "#tempArray2 = np.ones(n_var, dtype=int)\n",
    "\n",
    "solver = dae(\n",
    "    'ida',\n",
    "    residual, \n",
    "    #compute_initcond='yp0',\n",
    "    first_step_size=1e-15,\n",
    "    atol=1e-08,  # absolute tolerance for solution\n",
    "    rtol=1e-06,  # relative tolerance for solution\n",
    "    #algebraic_vars_idx=[np.arange(offset_Y+n_gas,offset_Z+n_surf,1)], \n",
    "    max_steps=8000,\n",
    "    max_step_size = 1e-03,\n",
    "    max_conv_fails = 50,\n",
    "    max_nonlin_iters = 20,\n",
    "    #constraints_idx = tempArray,\n",
    "    constraints_type = tempArray,\n",
    "    #order = 5,\n",
    "    #enforce_nonnegativity = True,\n",
    "    one_step_compute=True,\n",
    "    #exclude_algvar_from_error = True,\n",
    "    old_api=False  # Forces use of new api (namedtuple)\n",
    ")\n",
    "\n",
    "#times = np.arange(0,L,1e-3)\n",
    "#solution = solver.solve(times, y0, yprime0)\n",
    "time = []\n",
    "solution = []\n",
    "state = solver.init_step(0.0, y0, yprime0)\n",
    "#print(state)\n",
    "#print(state.values.y)\n",
    "while state.values.t < L :\n",
    "    time.append(state.values.t)\n",
    "    solution.append(state.values.y)\n",
    "    #print(state.values.t)\n",
    "    state = solver.step(L)\n",
    "    #print(state)\n",
    "    \n",
    "time = np.array(time)\n",
    "solution = np.array(solution)\n",
    "#print(solution)"
   ]
  },
  {
   "cell_type": "markdown",
   "metadata": {},
   "source": [
    "### Plot results"
   ]
  },
  {
   "cell_type": "code",
   "execution_count": 12,
   "metadata": {},
   "outputs": [
    {
     "data": {
      "text/plain": [
       "[<matplotlib.lines.Line2D at 0x15f6aab2130>]"
      ]
     },
     "execution_count": 12,
     "metadata": {},
     "output_type": "execute_result"
    },
    {
     "data": {
      "image/png": "[encoded data removed]",
      "text/plain": [
       "<Figure size 432x288 with 1 Axes>"
      ]
     },
     "metadata": {
      "needs_background": "light"
     },
     "output_type": "display_data"
    }
   ],
   "source": [
    "pSteady = solution[:,offset_Y + 0]\n",
    "plt.plot(time, pSteady)"
   ]
  },
  {
   "cell_type": "code",
   "execution_count": 8,
   "metadata": {},
   "outputs": [
    {
     "ename": "IndexError",
     "evalue": "too many indices for array",
     "output_type": "error",
     "traceback": [
      "\u001b[1;31m---------------------------------------------------------------------------\u001b[0m",
      "\u001b[1;31mIndexError\u001b[0m                                Traceback (most recent call last)",
      "\u001b[1;32m<ipython-input-8-9a2f4a4899e4>\u001b[0m in \u001b[0;36m<module>\u001b[1;34m\u001b[0m\n\u001b[0;32m      1\u001b[0m \u001b[1;31m# plot pressure of gas along the reactor length\u001b[0m\u001b[1;33m\u001b[0m\u001b[1;33m\u001b[0m\u001b[1;33m\u001b[0m\u001b[0m\n\u001b[0;32m      2\u001b[0m \u001b[0mf\u001b[0m\u001b[1;33m,\u001b[0m \u001b[0max\u001b[0m \u001b[1;33m=\u001b[0m \u001b[0mplt\u001b[0m\u001b[1;33m.\u001b[0m\u001b[0msubplots\u001b[0m\u001b[1;33m(\u001b[0m\u001b[1;36m2\u001b[0m\u001b[1;33m,\u001b[0m\u001b[1;36m1\u001b[0m\u001b[1;33m,\u001b[0m \u001b[0mfigsize\u001b[0m\u001b[1;33m=\u001b[0m\u001b[1;33m(\u001b[0m\u001b[1;36m9\u001b[0m\u001b[1;33m,\u001b[0m\u001b[1;36m9\u001b[0m\u001b[1;33m)\u001b[0m\u001b[1;33m,\u001b[0m \u001b[0mdpi\u001b[0m\u001b[1;33m=\u001b[0m\u001b[1;36m96\u001b[0m\u001b[1;33m)\u001b[0m\u001b[1;33m\u001b[0m\u001b[1;33m\u001b[0m\u001b[0m\n\u001b[1;32m----> 3\u001b[1;33m \u001b[0max\u001b[0m\u001b[1;33m[\u001b[0m\u001b[1;36m0\u001b[0m\u001b[1;33m,\u001b[0m\u001b[1;36m0\u001b[0m\u001b[1;33m]\u001b[0m\u001b[1;33m.\u001b[0m\u001b[0mplot\u001b[0m\u001b[1;33m(\u001b[0m\u001b[0mtime\u001b[0m\u001b[1;33m,\u001b[0m \u001b[0msolution\u001b[0m\u001b[1;33m[\u001b[0m\u001b[1;33m:\u001b[0m\u001b[1;33m,\u001b[0m \u001b[0moffset_p\u001b[0m\u001b[1;33m]\u001b[0m\u001b[1;33m,\u001b[0m \u001b[0mcolor\u001b[0m\u001b[1;33m=\u001b[0m\u001b[1;34m'C0'\u001b[0m\u001b[1;33m)\u001b[0m\u001b[1;33m\u001b[0m\u001b[1;33m\u001b[0m\u001b[0m\n\u001b[0m\u001b[0;32m      4\u001b[0m \u001b[0max\u001b[0m\u001b[1;33m[\u001b[0m\u001b[1;36m0\u001b[0m\u001b[1;33m,\u001b[0m\u001b[1;36m0\u001b[0m\u001b[1;33m]\u001b[0m\u001b[1;33m.\u001b[0m\u001b[0mset_xlabel\u001b[0m\u001b[1;33m(\u001b[0m\u001b[1;34m'Distance (m)'\u001b[0m\u001b[1;33m)\u001b[0m\u001b[1;33m\u001b[0m\u001b[1;33m\u001b[0m\u001b[0m\n\u001b[0;32m      5\u001b[0m \u001b[0max\u001b[0m\u001b[1;33m[\u001b[0m\u001b[1;36m0\u001b[0m\u001b[1;33m,\u001b[0m\u001b[1;36m0\u001b[0m\u001b[1;33m]\u001b[0m\u001b[1;33m.\u001b[0m\u001b[0mset_ylabel\u001b[0m\u001b[1;33m(\u001b[0m\u001b[1;34m'Pressure (Pa))'\u001b[0m\u001b[1;33m)\u001b[0m\u001b[1;33m\u001b[0m\u001b[1;33m\u001b[0m\u001b[0m\n",
      "\u001b[1;31mIndexError\u001b[0m: too many indices for array"
     ]
    },
    {
     "data": {
      "image/png": "[encoded data removed]",
      "text/plain": [
       "<Figure size 864x864 with 2 Axes>"
      ]
     },
     "metadata": {
      "needs_background": "light"
     },
     "output_type": "display_data"
    }
   ],
   "source": [
    "# plot pressure of gas along the reactor length\n",
    "f, ax = plt.subplots(2,1, figsize=(9,9), dpi=96)\n",
    "ax[0,0].plot(time, solution[:, offset_p], color='C0')\n",
    "ax[0,0].set_xlabel('Distance (m)')\n",
    "ax[0,0].set_ylabel('Pressure (Pa))')\n",
    "\n",
    "# plot temperature of gas along the reactor length\n",
    "ax[0,1].plot(time, solution[:,offset_T], color='C1')\n",
    "ax[0,1].set_xlabel('Distance (m)')\n",
    "ax[0,1].set_ylabel('Temperature (K))')\n",
    "ax[0,1].ticklabel_format(axis='y', style='sci', scilimits=(-2,2))  # scientific notation\n"
   ]
  },
  {
   "cell_type": "code",
   "execution_count": null,
   "metadata": {},
   "outputs": [],
   "source": [
    "# plot pressure of gas along the reactor length\n",
    "f, ax = plt.subplots(3,2, figsize=(9,9), dpi=96)\n",
    "ax[0,0].plot(times, solution.values.y[:,1], color='C0')\n",
    "ax[0,0].set_xlabel('Distance (m)')\n",
    "ax[0,0].set_ylabel('Pressure (Pa))')\n",
    "\n",
    "# plot temperature of gas along the reactor length\n",
    "f, ax = plt.subplots(3,2, figsize=(9,9), dpi=96)\n",
    "ax[0,0].plot(times, solution.values.y[:,2], color='C0')\n",
    "ax[0,0].set_xlabel('Distance (m)')\n",
    "ax[0,0].set_ylabel('Temperature (K))')\n",
    "\n",
    "# plot gas-phase species mole fractions\n",
    "\n",
    "# plot minor species\n",
    "for i in minor_idx:\n",
    "    style = '-' if i < 10 else '--'    \n",
    "    ax[1,0].plot(times, solution.values.y[:,2+i], label=gas.species_names[i], linestyle=style)\n",
    "ax[1,0].legend(fontsize=7, loc='upper right')\n",
    "ax[1,0].set_xlabel('Distance (m)')\n",
    "ax[1,0].set_ylabel('Mass Fraction')\n",
    "ax[1,0].ticklabel_format(axis='y', style='sci', scilimits=(-2,2))  # scientific notation\n",
    "\n",
    "# plot major species\n",
    "for j in major_idx:\n",
    "    ax[1,1].plot(times,solution.values.y[:,2+j], label=gas.species_names[j])\n",
    "ax[1,1].legend(loc='best')\n",
    "ax[1,1].set_xlabel('Distance (m)')\n",
    "ax[1,1].set_ylabel('Mass Fraction')\n",
    "\n",
    "# plot the pressure of the gas along the flow direction\n",
    "ax[2,0].plot(times, solution.values.y[:,2+N], color='C2')\n",
    "ax[2,0].set_xlabel('Distance (m)')\n",
    "ax[2,0].set_ylabel('Pressure (Pa)')\n",
    "\n",
    "# plot the site fraction of the surface species along the flow direction \n",
    "for i,name in enumerate(gas_Si_N_interface.species_names):\n",
    "    ax[2,1].plot(times, solution.values.y[:,3+N+i], label=name)\n",
    "ax[2,1].legend()\n",
    "ax[2,1].set_xlabel('Distance (m)')\n",
    "ax[2,1].set_ylabel('Site Fraction')\n",
    "f.tight_layout(pad=0.5)"
   ]
  },
  {
   "cell_type": "code",
   "execution_count": null,
   "metadata": {},
   "outputs": [],
   "source": []
  }
 ],
 "metadata": {
  "kernelspec": {
   "display_name": "Python 3",
   "language": "python",
   "name": "python3"
  },
  "language_info": {
   "codemirror_mode": {
    "name": "ipython",
    "version": 3
   },
   "file_extension": ".py",
   "mimetype": "text/x-python",
   "name": "python",
   "nbconvert_exporter": "python",
   "pygments_lexer": "ipython3",
   "version": "3.8.3"
  }
 },
 "nbformat": 4,
 "nbformat_minor": 4
}
