{
 "cells": [
  {
   "cell_type": "code",
   "execution_count": 1,
   "metadata": {
    "collapsed": true
   },
   "outputs": [],
   "source": [
    "from IPython.display import Image, display\n",
    "from ipywidgets import widgets,interact\n",
    "import cantera as ct\n",
    "import numpy as np\n",
    "import matplotlib\n",
    "from matplotlib import pyplot as plt\n",
    "from collections import defaultdict\n",
    "import os,shutil\n",
    "%matplotlib inline"
   ]
  },
  {
   "cell_type": "markdown",
   "metadata": {},
   "source": [
    "When using Cantera, the first thing you usually need is an object representing some phase of matter. Here, we'll create a gas mixture using GRI-Mech:"
   ]
  },
  {
   "cell_type": "code",
   "execution_count": 2,
   "metadata": {
    "collapsed": true
   },
   "outputs": [],
   "source": [
    "gas = ct.Solution('gri30.xml')"
   ]
  },
  {
   "cell_type": "markdown",
   "metadata": {},
   "source": [
    "To view the state of the mixture, *call* the `gas` object as if it were a function:"
   ]
  },
  {
   "cell_type": "code",
   "execution_count": 3,
   "metadata": {},
   "outputs": [
    {
     "name": "stdout",
     "output_type": "stream",
     "text": [
      "\n",
      "  gri30:\n",
      "\n",
      "       temperature             300  K\n",
      "          pressure          101325  Pa\n",
      "           density       0.0818891  kg/m^3\n",
      "  mean mol. weight         2.01588  amu\n",
      "\n",
      "                          1 kg            1 kmol\n",
      "                       -----------      ------------\n",
      "          enthalpy           26470        5.336e+04     J\n",
      "   internal energy     -1.2109e+06       -2.441e+06     J\n",
      "           entropy           64914        1.309e+05     J/K\n",
      "    Gibbs function     -1.9448e+07        -3.92e+07     J\n",
      " heat capacity c_p           14312        2.885e+04     J/K\n",
      " heat capacity c_v           10187        2.054e+04     J/K\n",
      "\n",
      "                           X                 Y          Chem. Pot. / RT\n",
      "                     -------------     ------------     ------------\n",
      "                H2              1                1         -15.7173\n",
      "     [  +52 minor]              0                0\n",
      "\n"
     ]
    }
   ],
   "source": [
    "gas()"
   ]
  },
  {
   "cell_type": "code",
   "execution_count": 4,
   "metadata": {},
   "outputs": [
    {
     "name": "stdout",
     "output_type": "stream",
     "text": [
      "['H2', 'H', 'O', 'O2', 'OH', 'H2O', 'HO2', 'H2O2', 'C', 'CH', 'CH2', 'CH2(S)', 'CH3', 'CH4', 'CO', 'CO2', 'HCO', 'CH2O', 'CH2OH', 'CH3O', 'CH3OH', 'C2H', 'C2H2', 'C2H3', 'C2H4', 'C2H5', 'C2H6', 'HCCO', 'CH2CO', 'HCCOH', 'N', 'NH', 'NH2', 'NH3', 'NNH', 'NO', 'NO2', 'N2O', 'HNO', 'CN', 'HCN', 'H2CN', 'HCNN', 'HCNO', 'HOCN', 'HNCO', 'NCO', 'N2', 'AR', 'C3H7', 'C3H8', 'CH2CHO', 'CH3CHO']\n"
     ]
    }
   ],
   "source": [
    "print (gas.species_names)"
   ]
  },
  {
   "cell_type": "markdown",
   "metadata": {},
   "source": [
    "## Shock tube ignition delay measurement conditions (Spadaccini, L.J., and Colket, M.B., (1994) Prog. Energy Combust. Sci. 20, 431. ) \n",
    "* $CH_4-C_2H_6-O_2-Ar$ (3.29%-0.21%-7%-89.5%)  \n",
    "* phi = 1.045\n",
    "* P = 6.1 - 7.6 atm\n",
    "* T = 1356 - 1688 K \n",
    "* Set temperature,pressure and composition"
   ]
  },
  {
   "cell_type": "code",
   "execution_count": 5,
   "metadata": {
    "collapsed": true
   },
   "outputs": [],
   "source": [
    "gas.TPX = 1550., 6.5*ct.one_atm,'CH4:3.29, C2H6:0.21, O2:7 , Ar:89.5'"
   ]
  },
  {
   "cell_type": "code",
   "execution_count": 6,
   "metadata": {},
   "outputs": [
    {
     "name": "stdout",
     "output_type": "stream",
     "text": [
      "\n",
      "  gri30:\n",
      "\n",
      "       temperature            1550  K\n",
      "          pressure          658612  Pa\n",
      "           density         1.97186  kg/m^3\n",
      "  mean mol. weight         38.5843  amu\n",
      "\n",
      "                          1 kg            1 kmol\n",
      "                       -----------      ------------\n",
      "          enthalpy      6.9211e+05         2.67e+07     J\n",
      "   internal energy       3.581e+05        1.382e+07     J\n",
      "           entropy          4803.4        1.853e+05     J/K\n",
      "    Gibbs function     -6.7532e+06       -2.606e+08     J\n",
      " heat capacity c_p          634.94         2.45e+04     J/K\n",
      " heat capacity c_v          419.45        1.618e+04     J/K\n",
      "\n",
      "                           X                 Y          Chem. Pot. / RT\n",
      "                     -------------     ------------     ------------\n",
      "                O2           0.07        0.0580525         -28.6786\n",
      "               CH4         0.0329        0.0136793          -34.996\n",
      "              C2H6         0.0021       0.00163658         -47.0076\n",
      "                AR          0.895         0.926632          -18.951\n",
      "     [  +49 minor]              0                0\n",
      "\n"
     ]
    }
   ],
   "source": [
    "gas()"
   ]
  },
  {
   "cell_type": "markdown",
   "metadata": {},
   "source": [
    "* Residence time is close to ignition delay reported by (Spadaccini, L.J., and Colket, M.B., (1994) Prog. Energy Combust. Sci. 20, 431. ) "
   ]
  },
  {
   "cell_type": "code",
   "execution_count": 7,
   "metadata": {
    "collapsed": true
   },
   "outputs": [],
   "source": [
    "residence_time = 1e-3"
   ]
  },
  {
   "cell_type": "markdown",
   "metadata": {},
   "source": [
    "* Create a batch reactor object and set solver tolerances"
   ]
  },
  {
   "cell_type": "code",
   "execution_count": 8,
   "metadata": {
    "collapsed": true
   },
   "outputs": [],
   "source": [
    "reactor = ct.IdealGasConstPressureReactor(gas, energy='on')\n",
    "reactor_network = ct.ReactorNet([reactor])\n",
    "reactor_network.atol = 1e-12\n",
    "reactor_network.rtol = 1e-12"
   ]
  },
  {
   "cell_type": "markdown",
   "metadata": {},
   "source": [
    "* Creating folders to store dot, png and pdf files"
   ]
  },
  {
   "cell_type": "code",
   "execution_count": 9,
   "metadata": {
    "collapsed": true
   },
   "outputs": [],
   "source": [
    "folders =['dot_files','png_files','pdf_files']\n",
    "for folder in folders:\n",
    "    if os.path.isdir(folder):\n",
    "        pass\n",
    "    else:\n",
    "        os.makedirs(folder)"
   ]
  },
  {
   "cell_type": "markdown",
   "metadata": {},
   "source": [
    "* Store time, pressure, temperature and mole fractions"
   ]
  },
  {
   "cell_type": "code",
   "execution_count": 10,
   "metadata": {
    "collapsed": true
   },
   "outputs": [],
   "source": [
    "profiles = defaultdict(list)\n",
    "time =0\n",
    "steps = 0\n",
    "while time < residence_time:\n",
    "    profiles['time'].append(time)\n",
    "    profiles['pressure'].append(gas.P)\n",
    "    profiles['temperature'].append(gas.T)\n",
    "    profiles['mole_fractions'].append(gas.X)\n",
    "    time = reactor_network.step()\n",
    "    steps = +1\n"
   ]
  },
  {
   "cell_type": "markdown",
   "metadata": {},
   "source": [
    "# Interactive reaction path diagram\n",
    "  * Plot steps, threshold and element can be changed using the slider provided by iPyWidgets"
   ]
  },
  {
   "cell_type": "code",
   "execution_count": 11,
   "metadata": {},
   "outputs": [
    {
     "name": "stderr",
     "output_type": "stream",
     "text": [
      "Widget Javascript not detected.  It may not be installed or enabled properly.\n"
     ]
    },
    {
     "data": {
      "application/vnd.jupyter.widget-view+json": {
       "model_id": "19451f7891ed4054a4ade542c96eec90"
      }
     },
     "metadata": {},
     "output_type": "display_data"
    }
   ],
   "source": [
    "@interact( plot_step=widgets.IntSlider(value=100,min=0,max=steps,step=10),\n",
    "           threshold=widgets.FloatSlider(value=0.005,min=0,max=1),\n",
    "         details = widgets.ToggleButton(),\n",
    "         species = widgets.Dropdown(options=gas.element_names,\n",
    "    value='C',\n",
    "    description='Element',\n",
    "    disabled=False,))\n",
    "def plot_reaction_path_diagrams(plot_step, threshold,details,species):\n",
    "    P = profiles['pressure'][plot_step]\n",
    "    T = profiles['temperature'][plot_step]\n",
    "    X = profiles['mole_fractions'][plot_step]\n",
    "    time= profiles['time'][plot_step]\n",
    "    gas.TPX = T,P,X\n",
    "    print(\"time = {:.2g} s\".format(time))\n",
    "    \n",
    "    diagram = ct.ReactionPathDiagram(gas, species)\n",
    "    diagram.threshold = threshold\n",
    "\n",
    "    diagram.show_details = details\n",
    "    dot_file = 'reaction_paths.dot'\n",
    "    png_file = 'reactio_paths.png'\n",
    "    diagram.write_dot(dot_file)\n",
    "    os.system('dot {0} -Tpng -o{1} -Gdpi=100'.format(dot_file, png_file))\n",
    "    img = Image(filename=png_file)\n",
    "    display(img)\n",
    "    "
   ]
  },
  {
   "cell_type": "markdown",
   "metadata": {},
   "source": [
    "* Find reactions containing the specy of interest \n",
    "   * `C2H6` in this case"
   ]
  },
  {
   "cell_type": "code",
   "execution_count": 12,
   "metadata": {
    "collapsed": true
   },
   "outputs": [],
   "source": [
    "C2H6_stoichiometry = np.zeros_like(gas.reactions())\n",
    "for i, r in enumerate(gas.reactions()):\n",
    "    C2H6_moles = r.products.get('C2H6',0) - r.reactants.get('C2H6',0)\n",
    "    C2H6_stoichiometry[i] = C2H6_moles\n",
    "C2H6_reaction_indices = C2H6_stoichiometry.nonzero()[0]"
   ]
  },
  {
   "cell_type": "markdown",
   "metadata": {},
   "source": [
    "### The following cell calculates net rates of progress of reactions containing the species of interest and stores it"
   ]
  },
  {
   "cell_type": "code",
   "execution_count": 13,
   "metadata": {
    "collapsed": true
   },
   "outputs": [],
   "source": [
    "profiles['C2H6_production_rates'] = []\n",
    "for i in range(len(profiles['time'])):\n",
    "    X = profiles['mole_fractions'][i]\n",
    "    t = profiles['time'][i]\n",
    "    T = profiles['temperature'][i]\n",
    "    P = profiles['pressure'][i]\n",
    "    gas.TPX = (T, P, X)\n",
    "    C2H6_production_rates = (gas.net_rates_of_progress * #  [kmol/m^3/s]\n",
    "                           C2H6_stoichiometry *\n",
    "                           gas.volume_mass  # Specific volume [m^3/kg].\n",
    "                         ) # overall, mol/s/g  (g total in reactor, same basis as N_atoms_in_fuel)\n",
    "    \n",
    "    profiles['C2H6_production_rates'].append(C2H6_production_rates[C2H6_reaction_indices])\n"
   ]
  },
  {
   "cell_type": "markdown",
   "metadata": {},
   "source": [
    "# Interactive plot of instantaneous fluxes\n",
    "   * Threshold for annotating of reaction strings can be changed using the slider provided by iPyWidgets"
   ]
  },
  {
   "cell_type": "code",
   "execution_count": 14,
   "metadata": {},
   "outputs": [
    {
     "name": "stderr",
     "output_type": "stream",
     "text": [
      "Widget Javascript not detected.  It may not be installed or enabled properly.\n"
     ]
    },
    {
     "data": {
      "application/vnd.jupyter.widget-view+json": {
       "model_id": "777bd7b0b1cd44d1b352a20350550768"
      }
     },
     "metadata": {},
     "output_type": "display_data"
    }
   ],
   "source": [
    "@interact(annotation_cutoff=widgets.FloatSlider(value=1e-2,min=1e-2,max=4,steps=10),\n",
    "         profiles=widgets.fixed(profiles))\n",
    "def plot_instantaneous_fluxes(profiles,annotation_cutoff):\n",
    "    profiles = profiles\n",
    "    fig = plt.figure(figsize=(6,6),dpi=100)\n",
    "    plt.plot(\n",
    "        profiles['time'],\n",
    "        np.array(profiles['C2H6_production_rates']))\n",
    "\n",
    "    for i, C2H6_production_rate in enumerate(np.array(profiles['C2H6_production_rates']).T):\n",
    "        peak_index = abs(C2H6_production_rate).argmax()\n",
    "        peak_time = profiles['time'][peak_index]\n",
    "        peak_C2H6_production = C2H6_production_rate[peak_index]\n",
    "        reaction_string = gas.reaction_equations(C2H6_reaction_indices)[i]\n",
    "\n",
    "        if abs(peak_C2H6_production)>annotation_cutoff:\n",
    "            plt.annotate((reaction_string).replace('2','$_2$').replace('<=>','='),\n",
    "                         xy=(peak_time, peak_C2H6_production),\n",
    "                         xytext=(peak_time*2, (peak_C2H6_production +\n",
    "                                               0.003*(peak_C2H6_production/abs(peak_C2H6_production)) * \\\n",
    "                                               (abs(peak_C2H6_production)>0.005) * \\\n",
    "                                               (peak_C2H6_production<0.06) )\n",
    "                                              ),\n",
    "                         arrowprops=dict(arrowstyle=\"->\",\n",
    "                                        color='black',\n",
    "                                        relpos=(0,0.6),\n",
    "                                        linewidth=2,),\n",
    "                         horizontalalignment='left',\n",
    "                        )\n",
    "\n",
    "\n",
    "    plt.xlabel('Time (s)',fontsize=16)\n",
    "    plt.ylabel('Net rates of C2H6 production',fontsize=16)\n",
    "    plt.tight_layout()\n",
    "    plt.show()"
   ]
  },
  {
   "cell_type": "markdown",
   "metadata": {},
   "source": [
    "### Integrating over time using `scipy.integrate.cumptraz` "
   ]
  },
  {
   "cell_type": "code",
   "execution_count": 15,
   "metadata": {
    "collapsed": true,
    "scrolled": false
   },
   "outputs": [],
   "source": [
    "from scipy import integrate\n",
    "integrated_fluxes = integrate.cumtrapz(np.array(profiles['C2H6_production_rates']), \n",
    "                                             np.array(profiles['time']), \n",
    "                                             axis=0,\n",
    "                                      initial=0)"
   ]
  },
  {
   "cell_type": "markdown",
   "metadata": {},
   "source": [
    "# Interactive plot of  integrated fluxes\n",
    " * Threshold for annotating of reaction strings can be changed using the slider provided by iPyWidgets"
   ]
  },
  {
   "cell_type": "code",
   "execution_count": 16,
   "metadata": {},
   "outputs": [
    {
     "name": "stderr",
     "output_type": "stream",
     "text": [
      "/anaconda/envs/rmg_env/lib/python2.7/site-packages/traitlets/traitlets.py:567: FutureWarning: comparison to `None` will result in an elementwise object comparison in the future.\n",
      "  silent = bool(old_value == new_value)\n",
      "Widget Javascript not detected.  It may not be installed or enabled properly.\n"
     ]
    },
    {
     "data": {
      "application/vnd.jupyter.widget-view+json": {
       "model_id": "dfbe7c5bcf60429aacd49ddfd99307cd"
      }
     },
     "metadata": {},
     "output_type": "display_data"
    }
   ],
   "source": [
    "@interact(annotation_cutoff=widgets.FloatSlider(value=1e-5,min=1e-5,max=1e-1,steps=100),\n",
    "         profiles=widgets.fixed(profiles),\n",
    "         integrated_fluxes=widgets.fixed(integrated_fluxes))\n",
    "def plot_integrated_fluxes(profiles,integrated_fluxes,annotation_cutoff):\n",
    "    profiles = profiles\n",
    "    integrated_fluxes = integrated_fluxes\n",
    "    fig = plt.figure(figsize=(6,6),dpi=100)\n",
    "    plt.plot(\n",
    "    profiles['time'],\n",
    "    integrated_fluxes)\n",
    "    final_time = profiles['time'][-1]\n",
    "    for i, C2H6_production in enumerate(integrated_fluxes.T):\n",
    "        total_C2H6_production = C2H6_production[-1]\n",
    "        reaction_string = gas.reaction_equations(C2H6_reaction_indices)[i]\n",
    "\n",
    "        if abs(total_C2H6_production)>annotation_cutoff:\n",
    "            plt.text(final_time*1.06, total_C2H6_production, reaction_string)\n",
    "\n",
    "    plt.xlabel('Time (s)',fontsize=16)\n",
    "    plt.ylabel('Integrated net rate of progress',fontsize=16)\n",
    "    plt.title(\"Cumulative C2H6 formation\",fontsize=16)\n",
    "    plt.tight_layout()\n",
    "    plt.show()"
   ]
  }
 ],
 "metadata": {
  "kernelspec": {
   "display_name": "Python 2",
   "language": "python",
   "name": "python2"
  },
  "language_info": {
   "codemirror_mode": {
    "name": "ipython",
    "version": 2
   },
   "file_extension": ".py",
   "mimetype": "text/x-python",
   "name": "python",
   "nbconvert_exporter": "python",
   "pygments_lexer": "ipython2",
   "version": "2.7.13"
  },
  "widgets": {
   "application/vnd.jupyter.widget-state+json": {
    "state": {
     "04ed71d293ed409ca77971ad2fedfd3c": {
      "model_module": "jupyter-js-widgets",
      "model_module_version": "~2.1.4",
      "model_name": "FloatSliderModel",
      "state": {
       "_model_module_version": "~2.1.4",
       "_view_module_version": "~2.1.4",
       "description": "threshold",
       "layout": "IPY_MODEL_594f0e4f7873412a80309ca7df19813c",
       "max": 1,
       "step": 0.1,
       "value": 0.005
      }
     },
     "0530538e1365477790602689f653c445": {
      "model_module": "jupyter-js-widgets",
      "model_module_version": "~2.1.4",
      "model_name": "VBoxModel",
      "state": {
       "_dom_classes": [
        "widget-interact"
       ],
       "_model_module_version": "~2.1.4",
       "_view_module_version": "~2.1.4",
       "children": [
        "IPY_MODEL_ccfda1b9e5574bd391682b4548370c6b",
        "IPY_MODEL_0964a5b07e1a4b04b6070d9c044ddbb6"
       ],
       "layout": "IPY_MODEL_84dcec61725443969f6669cefd625575"
      }
     },
     "0964a5b07e1a4b04b6070d9c044ddbb6": {
      "model_module": "jupyter-js-widgets",
      "model_module_version": "~2.1.4",
      "model_name": "OutputModel",
      "state": {
       "_dom_classes": [],
       "_model_module": "jupyter-js-widgets",
       "_model_module_version": "~2.1.4",
       "_view_module": "jupyter-js-widgets",
       "_view_module_version": "~2.1.4",
       "layout": "IPY_MODEL_7fc5e1e4eb1a46c2911c3f8c261d0746",
       "msg_throttle": 1
      }
     },
     "0abb1203671a453aab3ecfc9510436c5": {
      "model_module": "jupyter-js-widgets",
      "model_module_version": "~2.1.4",
      "model_name": "VBoxModel",
      "state": {
       "_dom_classes": [
        "widget-interact"
       ],
       "_model_module_version": "~2.1.4",
       "_view_module_version": "~2.1.4",
       "children": [
        "IPY_MODEL_6c08a8b14e4b4d76a93b809a5d61a435",
        "IPY_MODEL_9e4e6fdbb2934a9ca8bba37711c3a306"
       ],
       "layout": "IPY_MODEL_d5320bc5e02345b4bdbeb224e726a50e"
      }
     },
     "0ce8bed215ab4bc88cebcd9ca099810a": {
      "model_module": "jupyter-js-widgets",
      "model_module_version": "~2.1.4",
      "model_name": "OutputModel",
      "state": {
       "_dom_classes": [],
       "_model_module": "jupyter-js-widgets",
       "_model_module_version": "~2.1.4",
       "_view_module": "jupyter-js-widgets",
       "_view_module_version": "~2.1.4",
       "layout": "IPY_MODEL_87156194cc464dbdbc487344528453b4",
       "msg_throttle": 1
      }
     },
     "0e2c38866010444ba1146f277286dc5a": {
      "model_module": "jupyter-js-widgets",
      "model_module_version": "~2.1.4",
      "model_name": "FloatSliderModel",
      "state": {
       "_model_module_version": "~2.1.4",
       "_view_module_version": "~2.1.4",
       "description": "annotation_cutoff",
       "layout": "IPY_MODEL_b31e0f2f2acb403b83a084fb18495310",
       "max": 0.0001,
       "min": 1e-06,
       "step": 0.1,
       "value": 1e-06
      }
     },
     "11d4490fa73f470fa12134bdbe95172f": {
      "model_module": "jupyter-js-widgets",
      "model_module_version": "~2.1.4",
      "model_name": "OutputModel",
      "state": {
       "_dom_classes": [],
       "_model_module": "jupyter-js-widgets",
       "_model_module_version": "~2.1.4",
       "_view_module": "jupyter-js-widgets",
       "_view_module_version": "~2.1.4",
       "layout": "IPY_MODEL_e35c7d7cee374e6bad7d5d89dbdf4063",
       "msg_throttle": 1
      }
     },
     "13337ebc8771410e89de676d8588d536": {
      "model_module": "jupyter-js-widgets",
      "model_module_version": "~2.1.4",
      "model_name": "LayoutModel",
      "state": {
       "_model_module_version": "~2.1.4",
       "_view_module_version": "~2.1.4"
      }
     },
     "13fbbc9477d54d2690fec1757018ca88": {
      "model_module": "jupyter-js-widgets",
      "model_module_version": "~2.1.4",
      "model_name": "LayoutModel",
      "state": {
       "_model_module_version": "~2.1.4",
       "_view_module_version": "~2.1.4"
      }
     },
     "1b8c21fa5c0e4c84af7065bfc219e529": {
      "model_module": "jupyter-js-widgets",
      "model_module_version": "~2.1.4",
      "model_name": "FloatSliderModel",
      "state": {
       "_model_module_version": "~2.1.4",
       "_view_module_version": "~2.1.4",
       "description": "annotation_cutoff",
       "layout": "IPY_MODEL_6db5fd30b2f7461ca1cc5547b1330a98",
       "max": 4,
       "min": 0.01,
       "step": 0.1,
       "value": 0.01
      }
     },
     "25b6b6bad1cb44f1becb59e3a980fd9a": {
      "model_module": "jupyter-js-widgets",
      "model_module_version": "~2.1.4",
      "model_name": "LayoutModel",
      "state": {
       "_model_module_version": "~2.1.4",
       "_view_module_version": "~2.1.4"
      }
     },
     "25ec05fe62c44c979abaee19558c9dd0": {
      "model_module": "jupyter-js-widgets",
      "model_module_version": "~2.1.4",
      "model_name": "LayoutModel",
      "state": {
       "_model_module_version": "~2.1.4",
       "_view_module_version": "~2.1.4"
      }
     },
     "2798eab3ffb44f689d86c4ff433353d6": {
      "model_module": "jupyter-js-widgets",
      "model_module_version": "~2.1.4",
      "model_name": "FloatSliderModel",
      "state": {
       "_model_module_version": "~2.1.4",
       "_view_module_version": "~2.1.4",
       "description": "threshold",
       "layout": "IPY_MODEL_13fbbc9477d54d2690fec1757018ca88",
       "max": 1,
       "step": 0.1
      }
     },
     "28b7f5c346af48f294a8edce9c14a3aa": {
      "model_module": "jupyter-js-widgets",
      "model_module_version": "~2.1.4",
      "model_name": "IntSliderModel",
      "state": {
       "_model_module_version": "~2.1.4",
       "_view_module_version": "~2.1.4",
       "description": "plot_step",
       "layout": "IPY_MODEL_ccf367e7dc164cc7b476461e3522488d",
       "max": 1,
       "step": 10,
       "style": "IPY_MODEL_a95fbb33a28d471cacb62153434e1350"
      }
     },
     "2b6641e47adf44fb9db8c047aac6b4ea": {
      "model_module": "jupyter-js-widgets",
      "model_module_version": "~2.1.4",
      "model_name": "LayoutModel",
      "state": {
       "_model_module_version": "~2.1.4",
       "_view_module_version": "~2.1.4"
      }
     },
     "35ad160bb94945f9b23f7812fcf00652": {
      "model_module": "jupyter-js-widgets",
      "model_module_version": "~2.1.4",
      "model_name": "LayoutModel",
      "state": {
       "_model_module_version": "~2.1.4",
       "_view_module_version": "~2.1.4"
      }
     },
     "364cf9353ac84fb6ad14ef13f088a502": {
      "model_module": "jupyter-js-widgets",
      "model_module_version": "~2.1.4",
      "model_name": "ToggleButtonModel",
      "state": {
       "_model_module_version": "~2.1.4",
       "_view_module_version": "~2.1.4",
       "description": "details",
       "layout": "IPY_MODEL_839e5303b5c945be85a17c6c8f3b2c9f"
      }
     },
     "36806ecbbeb043e998270bb7eef18d22": {
      "model_module": "jupyter-js-widgets",
      "model_module_version": "~2.1.4",
      "model_name": "LayoutModel",
      "state": {
       "_model_module_version": "~2.1.4",
       "_view_module_version": "~2.1.4"
      }
     },
     "377dbf6c26bc4e1cb5b40dad9f8be7f4": {
      "model_module": "jupyter-js-widgets",
      "model_module_version": "~2.1.4",
      "model_name": "LayoutModel",
      "state": {
       "_model_module_version": "~2.1.4",
       "_view_module_version": "~2.1.4"
      }
     },
     "410cc700779545278ab29d6bdb515078": {
      "model_module": "jupyter-js-widgets",
      "model_module_version": "~2.1.4",
      "model_name": "LayoutModel",
      "state": {
       "_model_module_version": "~2.1.4",
       "_view_module_version": "~2.1.4"
      }
     },
     "42232ed011eb458a8610695b0f3acf60": {
      "model_module": "jupyter-js-widgets",
      "model_module_version": "~2.1.4",
      "model_name": "LayoutModel",
      "state": {
       "_model_module_version": "~2.1.4",
       "_view_module_version": "~2.1.4"
      }
     },
     "45992d8cf75940e481c62c9724cfcf7b": {
      "model_module": "jupyter-js-widgets",
      "model_module_version": "~2.1.4",
      "model_name": "SliderStyleModel",
      "state": {
       "_model_module_version": "~2.1.4",
       "_view_module_version": "~2.1.4"
      }
     },
     "466f3c1486704068ac57d20e554de8cf": {
      "model_module": "jupyter-js-widgets",
      "model_module_version": "~2.1.4",
      "model_name": "LayoutModel",
      "state": {
       "_model_module_version": "~2.1.4",
       "_view_module_version": "~2.1.4"
      }
     },
     "4865ab0745774ed380ad5ed41ae021b2": {
      "model_module": "jupyter-js-widgets",
      "model_module_version": "~2.1.4",
      "model_name": "VBoxModel",
      "state": {
       "_dom_classes": [
        "widget-interact"
       ],
       "_model_module_version": "~2.1.4",
       "_view_module_version": "~2.1.4",
       "children": [
        "IPY_MODEL_28b7f5c346af48f294a8edce9c14a3aa",
        "IPY_MODEL_2798eab3ffb44f689d86c4ff433353d6",
        "IPY_MODEL_b4ea438a7b8b43198d307b4bc3b9dfe0",
        "IPY_MODEL_95c77246888045c998c3defae03965fe",
        "IPY_MODEL_dd9e8ce4be424973973228a7289da604"
       ],
       "layout": "IPY_MODEL_e290e7d76c1246cc8083419b6f8d2501"
      }
     },
     "4968657bffde44fbb1a3c0495f36ec7c": {
      "model_module": "jupyter-js-widgets",
      "model_module_version": "~2.1.4",
      "model_name": "LayoutModel",
      "state": {
       "_model_module_version": "~2.1.4",
       "_view_module_version": "~2.1.4"
      }
     },
     "4b1e3c37dc874559b152e60616c2f5f5": {
      "model_module": "jupyter-js-widgets",
      "model_module_version": "~2.1.4",
      "model_name": "LayoutModel",
      "state": {
       "_model_module_version": "~2.1.4",
       "_view_module_version": "~2.1.4"
      }
     },
     "4b7174b5fa134759b5b351425df0e60a": {
      "model_module": "jupyter-js-widgets",
      "model_module_version": "~2.1.4",
      "model_name": "LayoutModel",
      "state": {
       "_model_module_version": "~2.1.4",
       "_view_module_version": "~2.1.4"
      }
     },
     "4bf6a72b45354ad0bdf0054cdfeccf08": {
      "model_module": "jupyter-js-widgets",
      "model_module_version": "~2.1.4",
      "model_name": "LayoutModel",
      "state": {
       "_model_module_version": "~2.1.4",
       "_view_module_version": "~2.1.4"
      }
     },
     "5128542c01e14cfda86b352e5ea33e53": {
      "model_module": "jupyter-js-widgets",
      "model_module_version": "~2.1.4",
      "model_name": "VBoxModel",
      "state": {
       "_dom_classes": [
        "widget-interact"
       ],
       "_model_module_version": "~2.1.4",
       "_view_module_version": "~2.1.4",
       "children": [
        "IPY_MODEL_0e2c38866010444ba1146f277286dc5a",
        "IPY_MODEL_11d4490fa73f470fa12134bdbe95172f"
       ],
       "layout": "IPY_MODEL_b1bb9164a7b44d048598ac4f61b96186"
      }
     },
     "519a888b44674869a12bf9ccf9d0fb66": {
      "model_module": "jupyter-js-widgets",
      "model_module_version": "~2.1.4",
      "model_name": "FloatSliderModel",
      "state": {
       "_model_module_version": "~2.1.4",
       "_view_module_version": "~2.1.4",
       "description": "annotation_cutoff",
       "layout": "IPY_MODEL_cebcfa314a17448385e00d23be4e1132",
       "max": 0.0001,
       "min": 1e-06,
       "step": 0.1,
       "value": 1e-06
      }
     },
     "549874ce98c54398bdb34b108c543913": {
      "model_module": "jupyter-js-widgets",
      "model_module_version": "~2.1.4",
      "model_name": "LayoutModel",
      "state": {
       "_model_module_version": "~2.1.4",
       "_view_module_version": "~2.1.4"
      }
     },
     "54faa8bddcff495dafb96b2fb48b1678": {
      "model_module": "jupyter-js-widgets",
      "model_module_version": "~2.1.4",
      "model_name": "ToggleButtonModel",
      "state": {
       "_model_module_version": "~2.1.4",
       "_view_module_version": "~2.1.4",
       "description": "details",
       "layout": "IPY_MODEL_a9a7858c33964c778737c0b792ef051c"
      }
     },
     "57b3217dc7ab479b8c93ecd27cf10f38": {
      "model_module": "jupyter-js-widgets",
      "model_module_version": "~2.1.4",
      "model_name": "OutputModel",
      "state": {
       "_dom_classes": [],
       "_model_module": "jupyter-js-widgets",
       "_model_module_version": "~2.1.4",
       "_view_module": "jupyter-js-widgets",
       "_view_module_version": "~2.1.4",
       "layout": "IPY_MODEL_771e250584764d21a2002d81f7a7ace9",
       "msg_throttle": 1
      }
     },
     "58eb79d02ee7451890f26003f1422aa5": {
      "model_module": "jupyter-js-widgets",
      "model_module_version": "~2.1.4",
      "model_name": "ToggleButtonModel",
      "state": {
       "_model_module_version": "~2.1.4",
       "_view_module_version": "~2.1.4",
       "description": "details",
       "layout": "IPY_MODEL_4bf6a72b45354ad0bdf0054cdfeccf08"
      }
     },
     "594f0e4f7873412a80309ca7df19813c": {
      "model_module": "jupyter-js-widgets",
      "model_module_version": "~2.1.4",
      "model_name": "LayoutModel",
      "state": {
       "_model_module_version": "~2.1.4",
       "_view_module_version": "~2.1.4"
      }
     },
     "5d6e40dc6a584e9386b266670b161d50": {
      "model_module": "jupyter-js-widgets",
      "model_module_version": "~2.1.4",
      "model_name": "DropdownModel",
      "state": {
       "_model_module_version": "~2.1.4",
       "_options_labels": [
        "O",
        "H",
        "C",
        "N",
        "Ar"
       ],
       "_view_module_version": "~2.1.4",
       "description": "Element",
       "layout": "IPY_MODEL_63ad8cfa53174dc2a8a8720ff124e2bf",
       "value": "C"
      }
     },
     "63ad8cfa53174dc2a8a8720ff124e2bf": {
      "model_module": "jupyter-js-widgets",
      "model_module_version": "~2.1.4",
      "model_name": "LayoutModel",
      "state": {
       "_model_module_version": "~2.1.4",
       "_view_module_version": "~2.1.4"
      }
     },
     "6456510ee24a47428bae8d745840e41b": {
      "model_module": "jupyter-js-widgets",
      "model_module_version": "~2.1.4",
      "model_name": "FloatSliderModel",
      "state": {
       "_model_module_version": "~2.1.4",
       "_view_module_version": "~2.1.4",
       "description": "annotation_cutoff",
       "layout": "IPY_MODEL_35ad160bb94945f9b23f7812fcf00652",
       "max": 4,
       "min": 0.01,
       "step": 0.1,
       "value": 0.01
      }
     },
     "677cadefa137473f827711d4da36c957": {
      "model_module": "jupyter-js-widgets",
      "model_module_version": "~2.1.4",
      "model_name": "LayoutModel",
      "state": {
       "_model_module_version": "~2.1.4",
       "_view_module_version": "~2.1.4"
      }
     },
     "677cbbd80fa14438bad3280ebc1949dd": {
      "model_module": "jupyter-js-widgets",
      "model_module_version": "~2.1.4",
      "model_name": "LayoutModel",
      "state": {
       "_model_module_version": "~2.1.4",
       "_view_module_version": "~2.1.4"
      }
     },
     "69f12fb76e6f4c7389bf7c3bd10b0718": {
      "model_module": "jupyter-js-widgets",
      "model_module_version": "~2.1.4",
      "model_name": "VBoxModel",
      "state": {
       "_dom_classes": [
        "widget-interact"
       ],
       "_model_module_version": "~2.1.4",
       "_view_module_version": "~2.1.4",
       "children": [
        "IPY_MODEL_897eda29317d422f9851c699a051a8a0",
        "IPY_MODEL_cf285dc2994342bfa50e303d40aec657",
        "IPY_MODEL_54faa8bddcff495dafb96b2fb48b1678",
        "IPY_MODEL_c1c58c2c2b54432a95f7062b461687bb",
        "IPY_MODEL_b79e7790503d45ba934dcea3b7c2e4a6"
       ],
       "layout": "IPY_MODEL_42232ed011eb458a8610695b0f3acf60"
      }
     },
     "6c08a8b14e4b4d76a93b809a5d61a435": {
      "model_module": "jupyter-js-widgets",
      "model_module_version": "~2.1.4",
      "model_name": "FloatSliderModel",
      "state": {
       "_model_module_version": "~2.1.4",
       "_view_module_version": "~2.1.4",
       "description": "annotation_cutoff",
       "layout": "IPY_MODEL_410cc700779545278ab29d6bdb515078",
       "max": 0.0001,
       "min": 1e-06,
       "step": 0.1,
       "value": 1e-06
      }
     },
     "6c48772d2156460e98f2d2e53d19ce7d": {
      "model_module": "jupyter-js-widgets",
      "model_module_version": "~2.1.4",
      "model_name": "FloatSliderModel",
      "state": {
       "_model_module_version": "~2.1.4",
       "_view_module_version": "~2.1.4",
       "description": "annotation_cutoff",
       "layout": "IPY_MODEL_d46402fffd6243a58b1eab788b948adc",
       "max": 0.1,
       "min": 1e-05,
       "step": 0.1,
       "value": 1e-05
      }
     },
     "6db5fd30b2f7461ca1cc5547b1330a98": {
      "model_module": "jupyter-js-widgets",
      "model_module_version": "~2.1.4",
      "model_name": "LayoutModel",
      "state": {
       "_model_module_version": "~2.1.4",
       "_view_module_version": "~2.1.4"
      }
     },
     "761c549089484d63aa3195718848c71d": {
      "model_module": "jupyter-js-widgets",
      "model_module_version": "~2.1.4",
      "model_name": "FloatSliderModel",
      "state": {
       "_model_module_version": "~2.1.4",
       "_view_module_version": "~2.1.4",
       "description": "annotation_cutoff",
       "layout": "IPY_MODEL_fb2c1f21ee184db1939c8b2df43c9cdb",
       "max": 4,
       "min": 0.01,
       "step": 0.1,
       "value": 0.01
      }
     },
     "771e250584764d21a2002d81f7a7ace9": {
      "model_module": "jupyter-js-widgets",
      "model_module_version": "~2.1.4",
      "model_name": "LayoutModel",
      "state": {
       "_model_module_version": "~2.1.4",
       "_view_module_version": "~2.1.4"
      }
     },
     "771ecb131e7b48749c64c3700bbef91c": {
      "model_module": "jupyter-js-widgets",
      "model_module_version": "~2.1.4",
      "model_name": "OutputModel",
      "state": {
       "_dom_classes": [],
       "_model_module": "jupyter-js-widgets",
       "_model_module_version": "~2.1.4",
       "_view_module": "jupyter-js-widgets",
       "_view_module_version": "~2.1.4",
       "layout": "IPY_MODEL_549874ce98c54398bdb34b108c543913",
       "msg_throttle": 1
      }
     },
     "781d2f560b24447eaea3d42a44ce3352": {
      "model_module": "jupyter-js-widgets",
      "model_module_version": "~2.1.4",
      "model_name": "LayoutModel",
      "state": {
       "_model_module_version": "~2.1.4",
       "_view_module_version": "~2.1.4"
      }
     },
     "7b47bb44ba614e6492b0a836b1c48bae": {
      "model_module": "jupyter-js-widgets",
      "model_module_version": "~2.1.4",
      "model_name": "VBoxModel",
      "state": {
       "_dom_classes": [
        "widget-interact"
       ],
       "_model_module_version": "~2.1.4",
       "_view_module_version": "~2.1.4",
       "children": [
        "IPY_MODEL_6c48772d2156460e98f2d2e53d19ce7d",
        "IPY_MODEL_97a0970fd6024797b7c6338c6fc7b7c0"
       ],
       "layout": "IPY_MODEL_8efca92c62fb4bc48f5de7349ba8e612"
      }
     },
     "7f807016dc1f4e0db64bf05005b18edf": {
      "model_module": "jupyter-js-widgets",
      "model_module_version": "~2.1.4",
      "model_name": "LayoutModel",
      "state": {
       "_model_module_version": "~2.1.4",
       "_view_module_version": "~2.1.4"
      }
     },
     "7fc5e1e4eb1a46c2911c3f8c261d0746": {
      "model_module": "jupyter-js-widgets",
      "model_module_version": "~2.1.4",
      "model_name": "LayoutModel",
      "state": {
       "_model_module_version": "~2.1.4",
       "_view_module_version": "~2.1.4"
      }
     },
     "81040569e76747d5abcc2e04900c2886": {
      "model_module": "jupyter-js-widgets",
      "model_module_version": "~2.1.4",
      "model_name": "LayoutModel",
      "state": {
       "_model_module_version": "~2.1.4",
       "_view_module_version": "~2.1.4"
      }
     },
     "816655cbecf24f88ba9466869ed26aa3": {
      "model_module": "jupyter-js-widgets",
      "model_module_version": "~2.1.4",
      "model_name": "VBoxModel",
      "state": {
       "_dom_classes": [
        "widget-interact"
       ],
       "_model_module_version": "~2.1.4",
       "_view_module_version": "~2.1.4",
       "children": [
        "IPY_MODEL_bcaa1523821945148621b9d7f1a3d711",
        "IPY_MODEL_04ed71d293ed409ca77971ad2fedfd3c",
        "IPY_MODEL_364cf9353ac84fb6ad14ef13f088a502",
        "IPY_MODEL_de8210d8b10142d19d56fe795d8bedca",
        "IPY_MODEL_a427b9dc45da46a7a1411f4541261aaf"
       ],
       "layout": "IPY_MODEL_81040569e76747d5abcc2e04900c2886"
      }
     },
     "839e5303b5c945be85a17c6c8f3b2c9f": {
      "model_module": "jupyter-js-widgets",
      "model_module_version": "~2.1.4",
      "model_name": "LayoutModel",
      "state": {
       "_model_module_version": "~2.1.4",
       "_view_module_version": "~2.1.4"
      }
     },
     "84dcec61725443969f6669cefd625575": {
      "model_module": "jupyter-js-widgets",
      "model_module_version": "~2.1.4",
      "model_name": "LayoutModel",
      "state": {
       "_model_module_version": "~2.1.4",
       "_view_module_version": "~2.1.4"
      }
     },
     "87156194cc464dbdbc487344528453b4": {
      "model_module": "jupyter-js-widgets",
      "model_module_version": "~2.1.4",
      "model_name": "LayoutModel",
      "state": {
       "_model_module_version": "~2.1.4",
       "_view_module_version": "~2.1.4"
      }
     },
     "88a83d7c11fc4c1bb36cb42e91d475b1": {
      "model_module": "jupyter-js-widgets",
      "model_module_version": "~2.1.4",
      "model_name": "LayoutModel",
      "state": {
       "_model_module_version": "~2.1.4",
       "_view_module_version": "~2.1.4"
      }
     },
     "897eda29317d422f9851c699a051a8a0": {
      "model_module": "jupyter-js-widgets",
      "model_module_version": "~2.1.4",
      "model_name": "IntSliderModel",
      "state": {
       "_model_module_version": "~2.1.4",
       "_view_module_version": "~2.1.4",
       "description": "plot_step",
       "layout": "IPY_MODEL_677cbbd80fa14438bad3280ebc1949dd",
       "max": 1,
       "step": 10,
       "style": "IPY_MODEL_95a2d2c5b01d4a37b90251e55ab363ef",
       "value": 1
      }
     },
     "8efca92c62fb4bc48f5de7349ba8e612": {
      "model_module": "jupyter-js-widgets",
      "model_module_version": "~2.1.4",
      "model_name": "LayoutModel",
      "state": {
       "_model_module_version": "~2.1.4",
       "_view_module_version": "~2.1.4"
      }
     },
     "93090d8839a34b189f37332097ae0ebf": {
      "model_module": "jupyter-js-widgets",
      "model_module_version": "~2.1.4",
      "model_name": "VBoxModel",
      "state": {
       "_dom_classes": [
        "widget-interact"
       ],
       "_model_module_version": "~2.1.4",
       "_view_module_version": "~2.1.4",
       "children": [
        "IPY_MODEL_6456510ee24a47428bae8d745840e41b",
        "IPY_MODEL_57b3217dc7ab479b8c93ecd27cf10f38"
       ],
       "layout": "IPY_MODEL_4968657bffde44fbb1a3c0495f36ec7c"
      }
     },
     "95a2d2c5b01d4a37b90251e55ab363ef": {
      "model_module": "jupyter-js-widgets",
      "model_module_version": "~2.1.4",
      "model_name": "SliderStyleModel",
      "state": {
       "_model_module_version": "~2.1.4",
       "_view_module_version": "~2.1.4"
      }
     },
     "95c77246888045c998c3defae03965fe": {
      "model_module": "jupyter-js-widgets",
      "model_module_version": "~2.1.4",
      "model_name": "DropdownModel",
      "state": {
       "_model_module_version": "~2.1.4",
       "_options_labels": [
        "O",
        "H",
        "C",
        "N",
        "Ar"
       ],
       "_view_module_version": "~2.1.4",
       "description": "Element",
       "layout": "IPY_MODEL_13337ebc8771410e89de676d8588d536",
       "value": "C"
      }
     },
     "9743514023be41f2928f6f139b0472a1": {
      "model_module": "jupyter-js-widgets",
      "model_module_version": "~2.1.4",
      "model_name": "SliderStyleModel",
      "state": {
       "_model_module_version": "~2.1.4",
       "_view_module_version": "~2.1.4"
      }
     },
     "97a0970fd6024797b7c6338c6fc7b7c0": {
      "model_module": "jupyter-js-widgets",
      "model_module_version": "~2.1.4",
      "model_name": "OutputModel",
      "state": {
       "_dom_classes": [],
       "_model_module": "jupyter-js-widgets",
       "_model_module_version": "~2.1.4",
       "_view_module": "jupyter-js-widgets",
       "_view_module_version": "~2.1.4",
       "layout": "IPY_MODEL_4b7174b5fa134759b5b351425df0e60a",
       "msg_throttle": 1
      }
     },
     "9cccfae923634f93a6a7ba9ce7d0bcc0": {
      "model_module": "jupyter-js-widgets",
      "model_module_version": "~2.1.4",
      "model_name": "LayoutModel",
      "state": {
       "_model_module_version": "~2.1.4",
       "_view_module_version": "~2.1.4"
      }
     },
     "9e4e6fdbb2934a9ca8bba37711c3a306": {
      "model_module": "jupyter-js-widgets",
      "model_module_version": "~2.1.4",
      "model_name": "OutputModel",
      "state": {
       "_dom_classes": [],
       "_model_module": "jupyter-js-widgets",
       "_model_module_version": "~2.1.4",
       "_view_module": "jupyter-js-widgets",
       "_view_module_version": "~2.1.4",
       "layout": "IPY_MODEL_2b6641e47adf44fb9db8c047aac6b4ea",
       "msg_throttle": 1
      }
     },
     "9f899e2c85144542bc2a4b80af5df64c": {
      "model_module": "jupyter-js-widgets",
      "model_module_version": "~2.1.4",
      "model_name": "IntSliderModel",
      "state": {
       "_model_module_version": "~2.1.4",
       "_view_module_version": "~2.1.4",
       "description": "plot_step",
       "layout": "IPY_MODEL_e5d33f1e212e4955a7ca5835d4ce9aa1",
       "max": 1,
       "step": 10,
       "style": "IPY_MODEL_45992d8cf75940e481c62c9724cfcf7b"
      }
     },
     "a08172e60d3f4e42ac31b2a81893ec33": {
      "model_module": "jupyter-js-widgets",
      "model_module_version": "~2.1.4",
      "model_name": "VBoxModel",
      "state": {
       "_dom_classes": [
        "widget-interact"
       ],
       "_model_module_version": "~2.1.4",
       "_view_module_version": "~2.1.4",
       "children": [
        "IPY_MODEL_1b8c21fa5c0e4c84af7065bfc219e529",
        "IPY_MODEL_f6c8594f381e451da193f7a972d82d61"
       ],
       "layout": "IPY_MODEL_7f807016dc1f4e0db64bf05005b18edf"
      }
     },
     "a427b9dc45da46a7a1411f4541261aaf": {
      "model_module": "jupyter-js-widgets",
      "model_module_version": "~2.1.4",
      "model_name": "OutputModel",
      "state": {
       "_dom_classes": [],
       "_model_module": "jupyter-js-widgets",
       "_model_module_version": "~2.1.4",
       "_view_module": "jupyter-js-widgets",
       "_view_module_version": "~2.1.4",
       "layout": "IPY_MODEL_781d2f560b24447eaea3d42a44ce3352",
       "msg_throttle": 1
      }
     },
     "a55b39c670ea4406ba3ae0c58cb37d29": {
      "model_module": "jupyter-js-widgets",
      "model_module_version": "~2.1.4",
      "model_name": "OutputModel",
      "state": {
       "_dom_classes": [],
       "_model_module": "jupyter-js-widgets",
       "_model_module_version": "~2.1.4",
       "_view_module": "jupyter-js-widgets",
       "_view_module_version": "~2.1.4",
       "layout": "IPY_MODEL_9cccfae923634f93a6a7ba9ce7d0bcc0",
       "msg_throttle": 1
      }
     },
     "a5dc139477cb48098e49fe5b79071b16": {
      "model_module": "jupyter-js-widgets",
      "model_module_version": "~2.1.4",
      "model_name": "LayoutModel",
      "state": {
       "_model_module_version": "~2.1.4",
       "_view_module_version": "~2.1.4"
      }
     },
     "a927a65806c94257a28de95b98c8a921": {
      "model_module": "jupyter-js-widgets",
      "model_module_version": "~2.1.4",
      "model_name": "LayoutModel",
      "state": {
       "_model_module_version": "~2.1.4",
       "_view_module_version": "~2.1.4"
      }
     },
     "a95fbb33a28d471cacb62153434e1350": {
      "model_module": "jupyter-js-widgets",
      "model_module_version": "~2.1.4",
      "model_name": "SliderStyleModel",
      "state": {
       "_model_module_version": "~2.1.4",
       "_view_module_version": "~2.1.4"
      }
     },
     "a9a7858c33964c778737c0b792ef051c": {
      "model_module": "jupyter-js-widgets",
      "model_module_version": "~2.1.4",
      "model_name": "LayoutModel",
      "state": {
       "_model_module_version": "~2.1.4",
       "_view_module_version": "~2.1.4"
      }
     },
     "ac1c5d514b3046d0b4aba17ec1b4f8b1": {
      "model_module": "jupyter-js-widgets",
      "model_module_version": "~2.1.4",
      "model_name": "FloatSliderModel",
      "state": {
       "_model_module_version": "~2.1.4",
       "_view_module_version": "~2.1.4",
       "description": "threshold",
       "layout": "IPY_MODEL_cf4d1325de3c44e1a8dfbf69a5178aaa",
       "max": 1,
       "step": 0.1,
       "value": 0.005
      }
     },
     "add6ca19dfcb42b7bbfde8e9747fd7b3": {
      "model_module": "jupyter-js-widgets",
      "model_module_version": "~2.1.4",
      "model_name": "LayoutModel",
      "state": {
       "_model_module_version": "~2.1.4",
       "_view_module_version": "~2.1.4"
      }
     },
     "af8c490e69304c8d9cefc6a6a25e1fbb": {
      "model_module": "jupyter-js-widgets",
      "model_module_version": "~2.1.4",
      "model_name": "OutputModel",
      "state": {
       "_dom_classes": [],
       "_model_module": "jupyter-js-widgets",
       "_model_module_version": "~2.1.4",
       "_view_module": "jupyter-js-widgets",
       "_view_module_version": "~2.1.4",
       "layout": "IPY_MODEL_ce95d34031c1420abab17b1f372f6edc",
       "msg_throttle": 1
      }
     },
     "afc9747566b346d1ac50220e3aadf5b2": {
      "model_module": "jupyter-js-widgets",
      "model_module_version": "~2.1.4",
      "model_name": "LayoutModel",
      "state": {
       "_model_module_version": "~2.1.4",
       "_view_module_version": "~2.1.4"
      }
     },
     "b05d45e0736d49f0a78bc93664162b23": {
      "model_module": "jupyter-js-widgets",
      "model_module_version": "~2.1.4",
      "model_name": "LayoutModel",
      "state": {
       "_model_module_version": "~2.1.4",
       "_view_module_version": "~2.1.4"
      }
     },
     "b1bb9164a7b44d048598ac4f61b96186": {
      "model_module": "jupyter-js-widgets",
      "model_module_version": "~2.1.4",
      "model_name": "LayoutModel",
      "state": {
       "_model_module_version": "~2.1.4",
       "_view_module_version": "~2.1.4"
      }
     },
     "b31e0f2f2acb403b83a084fb18495310": {
      "model_module": "jupyter-js-widgets",
      "model_module_version": "~2.1.4",
      "model_name": "LayoutModel",
      "state": {
       "_model_module_version": "~2.1.4",
       "_view_module_version": "~2.1.4"
      }
     },
     "b4ea438a7b8b43198d307b4bc3b9dfe0": {
      "model_module": "jupyter-js-widgets",
      "model_module_version": "~2.1.4",
      "model_name": "ToggleButtonModel",
      "state": {
       "_model_module_version": "~2.1.4",
       "_view_module_version": "~2.1.4",
       "description": "details",
       "layout": "IPY_MODEL_fd95654163c04a979b0afd429c5af5f8"
      }
     },
     "b78c105cdb6d4f48992ffb98313c32ee": {
      "model_module": "jupyter-js-widgets",
      "model_module_version": "~2.1.4",
      "model_name": "VBoxModel",
      "state": {
       "_dom_classes": [
        "widget-interact"
       ],
       "_model_module_version": "~2.1.4",
       "_view_module_version": "~2.1.4",
       "children": [
        "IPY_MODEL_519a888b44674869a12bf9ccf9d0fb66",
        "IPY_MODEL_a55b39c670ea4406ba3ae0c58cb37d29"
       ],
       "layout": "IPY_MODEL_4b1e3c37dc874559b152e60616c2f5f5"
      }
     },
     "b79e7790503d45ba934dcea3b7c2e4a6": {
      "model_module": "jupyter-js-widgets",
      "model_module_version": "~2.1.4",
      "model_name": "OutputModel",
      "state": {
       "_dom_classes": [],
       "_model_module": "jupyter-js-widgets",
       "_model_module_version": "~2.1.4",
       "_view_module": "jupyter-js-widgets",
       "_view_module_version": "~2.1.4",
       "layout": "IPY_MODEL_88a83d7c11fc4c1bb36cb42e91d475b1",
       "msg_throttle": 1
      }
     },
     "b97a82d00b52428ab7a7a19c88ff738a": {
      "model_module": "jupyter-js-widgets",
      "model_module_version": "~2.1.4",
      "model_name": "FloatSliderModel",
      "state": {
       "_model_module_version": "~2.1.4",
       "_view_module_version": "~2.1.4",
       "description": "annotation_cutoff",
       "layout": "IPY_MODEL_dee2e6fcea6a47fbbba10f4ec381b19e",
       "max": 0.1,
       "min": 0.001,
       "step": 0.1,
       "value": 0.001
      }
     },
     "bcaa1523821945148621b9d7f1a3d711": {
      "model_module": "jupyter-js-widgets",
      "model_module_version": "~2.1.4",
      "model_name": "IntSliderModel",
      "state": {
       "_model_module_version": "~2.1.4",
       "_view_module_version": "~2.1.4",
       "description": "plot_step",
       "layout": "IPY_MODEL_25b6b6bad1cb44f1becb59e3a980fd9a",
       "max": 1,
       "step": 10,
       "style": "IPY_MODEL_9743514023be41f2928f6f139b0472a1",
       "value": 1
      }
     },
     "c1c58c2c2b54432a95f7062b461687bb": {
      "model_module": "jupyter-js-widgets",
      "model_module_version": "~2.1.4",
      "model_name": "DropdownModel",
      "state": {
       "_model_module_version": "~2.1.4",
       "_options_labels": [
        "O",
        "H",
        "C",
        "N",
        "Ar"
       ],
       "_view_module_version": "~2.1.4",
       "description": "Element",
       "layout": "IPY_MODEL_cf03694e0fef417482bce4bde67e3ec6",
       "value": "C"
      }
     },
     "c8ba27fc0bed49169b839227f75de54f": {
      "model_module": "jupyter-js-widgets",
      "model_module_version": "~2.1.4",
      "model_name": "VBoxModel",
      "state": {
       "_dom_classes": [
        "widget-interact"
       ],
       "_model_module_version": "~2.1.4",
       "_view_module_version": "~2.1.4",
       "children": [
        "IPY_MODEL_e89d4a8beaeb4db1829afc3149180207",
        "IPY_MODEL_771ecb131e7b48749c64c3700bbef91c"
       ],
       "layout": "IPY_MODEL_25ec05fe62c44c979abaee19558c9dd0"
      }
     },
     "ccf367e7dc164cc7b476461e3522488d": {
      "model_module": "jupyter-js-widgets",
      "model_module_version": "~2.1.4",
      "model_name": "LayoutModel",
      "state": {
       "_model_module_version": "~2.1.4",
       "_view_module_version": "~2.1.4"
      }
     },
     "ccfda1b9e5574bd391682b4548370c6b": {
      "model_module": "jupyter-js-widgets",
      "model_module_version": "~2.1.4",
      "model_name": "FloatSliderModel",
      "state": {
       "_model_module_version": "~2.1.4",
       "_view_module_version": "~2.1.4",
       "description": "annotation_cutoff",
       "layout": "IPY_MODEL_466f3c1486704068ac57d20e554de8cf",
       "max": 0.1,
       "min": 1e-05,
       "step": 0.1,
       "value": 1e-05
      }
     },
     "ce95d34031c1420abab17b1f372f6edc": {
      "model_module": "jupyter-js-widgets",
      "model_module_version": "~2.1.4",
      "model_name": "LayoutModel",
      "state": {
       "_model_module_version": "~2.1.4",
       "_view_module_version": "~2.1.4"
      }
     },
     "cebcfa314a17448385e00d23be4e1132": {
      "model_module": "jupyter-js-widgets",
      "model_module_version": "~2.1.4",
      "model_name": "LayoutModel",
      "state": {
       "_model_module_version": "~2.1.4",
       "_view_module_version": "~2.1.4"
      }
     },
     "cf03694e0fef417482bce4bde67e3ec6": {
      "model_module": "jupyter-js-widgets",
      "model_module_version": "~2.1.4",
      "model_name": "LayoutModel",
      "state": {
       "_model_module_version": "~2.1.4",
       "_view_module_version": "~2.1.4"
      }
     },
     "cf285dc2994342bfa50e303d40aec657": {
      "model_module": "jupyter-js-widgets",
      "model_module_version": "~2.1.4",
      "model_name": "FloatSliderModel",
      "state": {
       "_model_module_version": "~2.1.4",
       "_view_module_version": "~2.1.4",
       "description": "threshold",
       "layout": "IPY_MODEL_f6e91672624545049832c47b5c275dc7",
       "max": 1,
       "step": 0.1,
       "value": 0.005
      }
     },
     "cf4d1325de3c44e1a8dfbf69a5178aaa": {
      "model_module": "jupyter-js-widgets",
      "model_module_version": "~2.1.4",
      "model_name": "LayoutModel",
      "state": {
       "_model_module_version": "~2.1.4",
       "_view_module_version": "~2.1.4"
      }
     },
     "d46402fffd6243a58b1eab788b948adc": {
      "model_module": "jupyter-js-widgets",
      "model_module_version": "~2.1.4",
      "model_name": "LayoutModel",
      "state": {
       "_model_module_version": "~2.1.4",
       "_view_module_version": "~2.1.4"
      }
     },
     "d5320bc5e02345b4bdbeb224e726a50e": {
      "model_module": "jupyter-js-widgets",
      "model_module_version": "~2.1.4",
      "model_name": "LayoutModel",
      "state": {
       "_model_module_version": "~2.1.4",
       "_view_module_version": "~2.1.4"
      }
     },
     "d8588c5ab33a49bda917455eded7294a": {
      "model_module": "jupyter-js-widgets",
      "model_module_version": "~2.1.4",
      "model_name": "OutputModel",
      "state": {
       "_dom_classes": [],
       "_model_module": "jupyter-js-widgets",
       "_model_module_version": "~2.1.4",
       "_view_module": "jupyter-js-widgets",
       "_view_module_version": "~2.1.4",
       "layout": "IPY_MODEL_afc9747566b346d1ac50220e3aadf5b2",
       "msg_throttle": 1
      }
     },
     "d8a36d0c3ed24644b9fc4b488ea045ae": {
      "model_module": "jupyter-js-widgets",
      "model_module_version": "~2.1.4",
      "model_name": "VBoxModel",
      "state": {
       "_dom_classes": [
        "widget-interact"
       ],
       "_model_module_version": "~2.1.4",
       "_view_module_version": "~2.1.4",
       "children": [
        "IPY_MODEL_9f899e2c85144542bc2a4b80af5df64c",
        "IPY_MODEL_ac1c5d514b3046d0b4aba17ec1b4f8b1",
        "IPY_MODEL_58eb79d02ee7451890f26003f1422aa5",
        "IPY_MODEL_5d6e40dc6a584e9386b266670b161d50",
        "IPY_MODEL_af8c490e69304c8d9cefc6a6a25e1fbb"
       ],
       "layout": "IPY_MODEL_a927a65806c94257a28de95b98c8a921"
      }
     },
     "dbe2cc648bfc4506a567929f471e8802": {
      "model_module": "jupyter-js-widgets",
      "model_module_version": "~2.1.4",
      "model_name": "VBoxModel",
      "state": {
       "_dom_classes": [
        "widget-interact"
       ],
       "_model_module_version": "~2.1.4",
       "_view_module_version": "~2.1.4",
       "children": [
        "IPY_MODEL_761c549089484d63aa3195718848c71d",
        "IPY_MODEL_d8588c5ab33a49bda917455eded7294a"
       ],
       "layout": "IPY_MODEL_b05d45e0736d49f0a78bc93664162b23"
      }
     },
     "dd9e8ce4be424973973228a7289da604": {
      "model_module": "jupyter-js-widgets",
      "model_module_version": "~2.1.4",
      "model_name": "OutputModel",
      "state": {
       "_dom_classes": [],
       "_model_module": "jupyter-js-widgets",
       "_model_module_version": "~2.1.4",
       "_view_module": "jupyter-js-widgets",
       "_view_module_version": "~2.1.4",
       "layout": "IPY_MODEL_a5dc139477cb48098e49fe5b79071b16",
       "msg_throttle": 1
      }
     },
     "de8210d8b10142d19d56fe795d8bedca": {
      "model_module": "jupyter-js-widgets",
      "model_module_version": "~2.1.4",
      "model_name": "DropdownModel",
      "state": {
       "_model_module_version": "~2.1.4",
       "_options_labels": [
        "O",
        "H",
        "C",
        "N",
        "Ar"
       ],
       "_view_module_version": "~2.1.4",
       "description": "Element",
       "layout": "IPY_MODEL_add6ca19dfcb42b7bbfde8e9747fd7b3",
       "value": "C"
      }
     },
     "dee2e6fcea6a47fbbba10f4ec381b19e": {
      "model_module": "jupyter-js-widgets",
      "model_module_version": "~2.1.4",
      "model_name": "LayoutModel",
      "state": {
       "_model_module_version": "~2.1.4",
       "_view_module_version": "~2.1.4"
      }
     },
     "e290e7d76c1246cc8083419b6f8d2501": {
      "model_module": "jupyter-js-widgets",
      "model_module_version": "~2.1.4",
      "model_name": "LayoutModel",
      "state": {
       "_model_module_version": "~2.1.4",
       "_view_module_version": "~2.1.4"
      }
     },
     "e35c7d7cee374e6bad7d5d89dbdf4063": {
      "model_module": "jupyter-js-widgets",
      "model_module_version": "~2.1.4",
      "model_name": "LayoutModel",
      "state": {
       "_model_module_version": "~2.1.4",
       "_view_module_version": "~2.1.4"
      }
     },
     "e5d33f1e212e4955a7ca5835d4ce9aa1": {
      "model_module": "jupyter-js-widgets",
      "model_module_version": "~2.1.4",
      "model_name": "LayoutModel",
      "state": {
       "_model_module_version": "~2.1.4",
       "_view_module_version": "~2.1.4"
      }
     },
     "e89d4a8beaeb4db1829afc3149180207": {
      "model_module": "jupyter-js-widgets",
      "model_module_version": "~2.1.4",
      "model_name": "FloatSliderModel",
      "state": {
       "_model_module_version": "~2.1.4",
       "_view_module_version": "~2.1.4",
       "description": "annotation_cutoff",
       "layout": "IPY_MODEL_377dbf6c26bc4e1cb5b40dad9f8be7f4",
       "max": 4,
       "min": 0.01,
       "step": 0.1,
       "value": 0.01
      }
     },
     "f6c8594f381e451da193f7a972d82d61": {
      "model_module": "jupyter-js-widgets",
      "model_module_version": "~2.1.4",
      "model_name": "OutputModel",
      "state": {
       "_dom_classes": [],
       "_model_module": "jupyter-js-widgets",
       "_model_module_version": "~2.1.4",
       "_view_module": "jupyter-js-widgets",
       "_view_module_version": "~2.1.4",
       "layout": "IPY_MODEL_677cadefa137473f827711d4da36c957",
       "msg_throttle": 1
      }
     },
     "f6e91672624545049832c47b5c275dc7": {
      "model_module": "jupyter-js-widgets",
      "model_module_version": "~2.1.4",
      "model_name": "LayoutModel",
      "state": {
       "_model_module_version": "~2.1.4",
       "_view_module_version": "~2.1.4"
      }
     },
     "fb2c1f21ee184db1939c8b2df43c9cdb": {
      "model_module": "jupyter-js-widgets",
      "model_module_version": "~2.1.4",
      "model_name": "LayoutModel",
      "state": {
       "_model_module_version": "~2.1.4",
       "_view_module_version": "~2.1.4"
      }
     },
     "fd2b268999ec41bcb19185e1f0dd3fa8": {
      "model_module": "jupyter-js-widgets",
      "model_module_version": "~2.1.4",
      "model_name": "VBoxModel",
      "state": {
       "_dom_classes": [
        "widget-interact"
       ],
       "_model_module_version": "~2.1.4",
       "_view_module_version": "~2.1.4",
       "children": [
        "IPY_MODEL_b97a82d00b52428ab7a7a19c88ff738a",
        "IPY_MODEL_0ce8bed215ab4bc88cebcd9ca099810a"
       ],
       "layout": "IPY_MODEL_36806ecbbeb043e998270bb7eef18d22"
      }
     },
     "fd95654163c04a979b0afd429c5af5f8": {
      "model_module": "jupyter-js-widgets",
      "model_module_version": "~2.1.4",
      "model_name": "LayoutModel",
      "state": {
       "_model_module_version": "~2.1.4",
       "_view_module_version": "~2.1.4"
      }
     }
    },
    "version_major": 1,
    "version_minor": 0
   }
  }
 },
 "nbformat": 4,
 "nbformat_minor": 2
}
