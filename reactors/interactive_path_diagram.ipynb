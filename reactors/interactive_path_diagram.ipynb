{
 "cells": [
  {
   "cell_type": "code",
   "execution_count": 1,
   "metadata": {
    "collapsed": true
   },
   "outputs": [],
   "source": [
    "from IPython.display import Image, display\n",
    "from ipywidgets import widgets,interact\n",
    "import cantera as ct\n",
    "import numpy as np\n",
    "import matplotlib\n",
    "from matplotlib import pyplot as plt\n",
    "from collections import defaultdict\n",
    "import os,shutil\n",
    "%matplotlib inline"
   ]
  },
  {
   "cell_type": "markdown",
   "metadata": {},
   "source": [
    "When using Cantera, the first thing you usually need is an object representing some phase of matter. Here, we'll create a gas mixture:"
   ]
  },
  {
   "cell_type": "code",
   "execution_count": 2,
   "metadata": {
    "collapsed": true
   },
   "outputs": [],
   "source": [
    "gas = ct.Solution('gri30.xml')"
   ]
  },
  {
   "cell_type": "markdown",
   "metadata": {},
   "source": [
    "To view the state of the mixture, *call* the `gas` object as if it were a function:"
   ]
  },
  {
   "cell_type": "code",
   "execution_count": 3,
   "metadata": {},
   "outputs": [
    {
     "name": "stdout",
     "output_type": "stream",
     "text": [
      "\n",
      "  gri30:\n",
      "\n",
      "       temperature             300  K\n",
      "          pressure          101325  Pa\n",
      "           density       0.0818891  kg/m^3\n",
      "  mean mol. weight         2.01588  amu\n",
      "\n",
      "                          1 kg            1 kmol\n",
      "                       -----------      ------------\n",
      "          enthalpy           26470        5.336e+04     J\n",
      "   internal energy     -1.2109e+06       -2.441e+06     J\n",
      "           entropy           64914        1.309e+05     J/K\n",
      "    Gibbs function     -1.9448e+07        -3.92e+07     J\n",
      " heat capacity c_p           14312        2.885e+04     J/K\n",
      " heat capacity c_v           10187        2.054e+04     J/K\n",
      "\n",
      "                           X                 Y          Chem. Pot. / RT\n",
      "                     -------------     ------------     ------------\n",
      "                H2              1                1         -15.7173\n",
      "     [  +52 minor]              0                0\n",
      "\n"
     ]
    }
   ],
   "source": [
    "gas()"
   ]
  },
  {
   "cell_type": "code",
   "execution_count": 4,
   "metadata": {},
   "outputs": [
    {
     "name": "stdout",
     "output_type": "stream",
     "text": [
      "['H2', 'H', 'O', 'O2', 'OH', 'H2O', 'HO2', 'H2O2', 'C', 'CH', 'CH2', 'CH2(S)', 'CH3', 'CH4', 'CO', 'CO2', 'HCO', 'CH2O', 'CH2OH', 'CH3O', 'CH3OH', 'C2H', 'C2H2', 'C2H3', 'C2H4', 'C2H5', 'C2H6', 'HCCO', 'CH2CO', 'HCCOH', 'N', 'NH', 'NH2', 'NH3', 'NNH', 'NO', 'NO2', 'N2O', 'HNO', 'CN', 'HCN', 'H2CN', 'HCNN', 'HCNO', 'HOCN', 'HNCO', 'NCO', 'N2', 'AR', 'C3H7', 'C3H8', 'CH2CHO', 'CH3CHO']\n"
     ]
    }
   ],
   "source": [
    "print (gas.species_names)"
   ]
  },
  {
   "cell_type": "markdown",
   "metadata": {},
   "source": [
    "## Shock tube ignition delay measurement conditions (Spadaccini, L.J., and Colket, M.B., (1994) Prog. Energy Combust. Sci. 20, 431. ) \n",
    "* $CH_4-C_2H_6-O_2-Ar$ (3.29%-0.21%-7%-89.5%)  \n",
    "* phi = 1.045\n",
    "* P = 6.1 - 7.6 atm\n",
    "* T = 1356 - 1688 K \n",
    "* Set temperature,pressure and composition"
   ]
  },
  {
   "cell_type": "code",
   "execution_count": 5,
   "metadata": {
    "collapsed": true
   },
   "outputs": [],
   "source": [
    "gas.TPX = 1550., 6.5*ct.one_atm,'CH4:3.29, C2H6:0.21, O2:7 , Ar:89.5'"
   ]
  },
  {
   "cell_type": "code",
   "execution_count": 6,
   "metadata": {},
   "outputs": [
    {
     "name": "stdout",
     "output_type": "stream",
     "text": [
      "\n",
      "  gri30:\n",
      "\n",
      "       temperature            1550  K\n",
      "          pressure          658612  Pa\n",
      "           density         1.97186  kg/m^3\n",
      "  mean mol. weight         38.5843  amu\n",
      "\n",
      "                          1 kg            1 kmol\n",
      "                       -----------      ------------\n",
      "          enthalpy      6.9211e+05         2.67e+07     J\n",
      "   internal energy       3.581e+05        1.382e+07     J\n",
      "           entropy          4803.4        1.853e+05     J/K\n",
      "    Gibbs function     -6.7532e+06       -2.606e+08     J\n",
      " heat capacity c_p          634.94         2.45e+04     J/K\n",
      " heat capacity c_v          419.45        1.618e+04     J/K\n",
      "\n",
      "                           X                 Y          Chem. Pot. / RT\n",
      "                     -------------     ------------     ------------\n",
      "                O2           0.07        0.0580525         -28.6786\n",
      "               CH4         0.0329        0.0136793          -34.996\n",
      "              C2H6         0.0021       0.00163658         -47.0076\n",
      "                AR          0.895         0.926632          -18.951\n",
      "     [  +49 minor]              0                0\n",
      "\n"
     ]
    }
   ],
   "source": [
    "gas()"
   ]
  },
  {
   "cell_type": "markdown",
   "metadata": {},
   "source": [
    "* Residence time is close to ignition delay reported by (Spadaccini, L.J., and Colket, M.B., (1994) Prog. Energy Combust. Sci. 20, 431. ) "
   ]
  },
  {
   "cell_type": "code",
   "execution_count": 7,
   "metadata": {
    "collapsed": true
   },
   "outputs": [],
   "source": [
    "residence_time = 1e-3"
   ]
  },
  {
   "cell_type": "markdown",
   "metadata": {},
   "source": [
    "* Create a batch reactor object and set solver tolerances"
   ]
  },
  {
   "cell_type": "code",
   "execution_count": 8,
   "metadata": {},
   "outputs": [],
   "source": [
    "reactor = ct.IdealGasConstPressureReactor(gas, energy='on')\n",
    "reactor_network = ct.ReactorNet([reactor])\n",
    "reactor_network.atol = 1e-12\n",
    "reactor_network.rtol = 1e-12"
   ]
  },
  {
   "cell_type": "markdown",
   "metadata": {},
   "source": [
    "* Store time, pressure, temperature and mole fractions"
   ]
  },
  {
   "cell_type": "code",
   "execution_count": 9,
   "metadata": {},
   "outputs": [],
   "source": [
    "folders =['dot_files','png_files','pdf_files']\n",
    "for folder in folders:\n",
    "    if os.path.isdir(folder):\n",
    "        pass\n",
    "    else:\n",
    "        os.makedirs(folder)"
   ]
  },
  {
   "cell_type": "code",
   "execution_count": 10,
   "metadata": {
    "collapsed": true
   },
   "outputs": [],
   "source": [
    "profiles = defaultdict(list)\n",
    "time =0\n",
    "steps = 0\n",
    "while time < residence_time:\n",
    "    profiles['time'].append(time)\n",
    "    profiles['pressure'].append(gas.P)\n",
    "    profiles['temperature'].append(gas.T)\n",
    "    profiles['mole_fractions'].append(gas.X)\n",
    "    time = reactor_network.step()\n",
    "    steps = +1\n"
   ]
  },
  {
   "cell_type": "markdown",
   "metadata": {},
   "source": [
    "# Interactive reaction path diagram"
   ]
  },
  {
   "cell_type": "code",
   "execution_count": 21,
   "metadata": {},
   "outputs": [
    {
     "data": {
      "application/vnd.jupyter.widget-view+json": {
       "model_id": "8674049513ff46d6aae488ad1f3c89bc",
       "version_major": 2,
       "version_minor": 0
      },
      "text/plain": [
       "A Jupyter Widget"
      ]
     },
     "metadata": {},
     "output_type": "display_data"
    }
   ],
   "source": [
    "@interact( plot_step=widgets.IntSlider(value=100,min=0,max=steps,step=10),\n",
    "           threshold=widgets.FloatSlider(value=0.005,min=0,max=1),\n",
    "         details = widgets.ToggleButton(),\n",
    "         species = widgets.Dropdown(options=gas.element_names,\n",
    "    value='C',\n",
    "    description='Element',\n",
    "    disabled=False,))\n",
    "def plot_reaction_path_diagrams(plot_step, threshold,details,species):\n",
    "    P = profiles['pressure'][plot_step]\n",
    "    T = profiles['temperature'][plot_step]\n",
    "    X = profiles['mole_fractions'][plot_step]\n",
    "    time= profiles['time'][plot_step]\n",
    "    gas.TPX = T,P,X\n",
    "    print(\"time = {:.2g} s\".format(time))\n",
    "    \n",
    "    diagram = ct.ReactionPathDiagram(gas, species)\n",
    "    diagram.threshold = threshold\n",
    "\n",
    "    diagram.show_details = details\n",
    "    dot_file = 'reaction_paths.dot'\n",
    "    png_file = 'reactio_paths.png'\n",
    "    diagram.write_dot(dot_file)\n",
    "    os.system('dot {0} -Tpng -o{1} -Gdpi=100'.format(dot_file, png_file))\n",
    "    img = Image(filename=png_file)\n",
    "    display(img)\n",
    "    "
   ]
  },
  {
   "cell_type": "markdown",
   "metadata": {},
   "source": [
    "* Find reactions containing the specy of interest "
   ]
  },
  {
   "cell_type": "code",
   "execution_count": 13,
   "metadata": {
    "collapsed": true
   },
   "outputs": [],
   "source": [
    "C2H6_stoichiometry = np.zeros_like(gas.reactions())\n",
    "for i, r in enumerate(gas.reactions()):\n",
    "    C2H6_moles = r.products.get('C2H6',0) - r.reactants.get('C2H6',0)\n",
    "    C2H6_stoichiometry[i] = C2H6_moles\n",
    "C2H6_reaction_indices = C2H6_stoichiometry.nonzero()[0]"
   ]
  },
  {
   "cell_type": "markdown",
   "metadata": {},
   "source": [
    "### The following cell calculates net rates of progress of reactions containing the species of interest and stores it"
   ]
  },
  {
   "cell_type": "code",
   "execution_count": 14,
   "metadata": {},
   "outputs": [],
   "source": [
    "profiles['C2H6_production_rates'] = []\n",
    "for i in range(len(profiles['time'])):\n",
    "    X = profiles['mole_fractions'][i]\n",
    "    t = profiles['time'][i]\n",
    "    T = profiles['temperature'][i]\n",
    "    P = profiles['pressure'][i]\n",
    "    gas.TPX = (T, P, X)\n",
    "    C2H6_production_rates = (gas.net_rates_of_progress * #  [kmol/m^3/s]\n",
    "                           C2H6_stoichiometry *\n",
    "                           gas.volume_mass  # Specific volume [m^3/kg].\n",
    "                         ) # overall, mol/s/g  (g total in reactor, same basis as N_atoms_in_fuel)\n",
    "    \n",
    "    profiles['C2H6_production_rates'].append(C2H6_production_rates[C2H6_reaction_indices])\n"
   ]
  },
  {
   "cell_type": "markdown",
   "metadata": {},
   "source": [
    "### Plot the instantaneous fluxes"
   ]
  },
  {
   "cell_type": "code",
   "execution_count": 15,
   "metadata": {},
   "outputs": [
    {
     "data": {
      "application/vnd.jupyter.widget-view+json": {
       "model_id": "bbfff3e3781644df8d384cd542f56111",
       "version_major": 2,
       "version_minor": 0
      },
      "text/plain": [
       "A Jupyter Widget"
      ]
     },
     "metadata": {},
     "output_type": "display_data"
    }
   ],
   "source": [
    "@interact(annotation_cutoff=widgets.FloatSlider(value=1e-2,min=1e-2,max=4,steps=10),\n",
    "         profiles=widgets.fixed(profiles))\n",
    "def plot_instantaneous_fluxes(profiles,annotation_cutoff):\n",
    "    profiles = profiles\n",
    "    fig = plt.figure(figsize=(6,6),dpi=100)\n",
    "    plt.plot(\n",
    "        profiles['time'],\n",
    "        np.array(profiles['C2H6_production_rates']))\n",
    "    #plt.xlim(5e-5,5e-2)\n",
    "    #plt.ylim(-1e-2,3e-2)\n",
    "\n",
    "    for i, C2H6_production_rate in enumerate(np.array(profiles['C2H6_production_rates']).T):\n",
    "        peak_index = abs(C2H6_production_rate).argmax()\n",
    "        peak_time = profiles['time'][peak_index]\n",
    "        peak_C2H6_production = C2H6_production_rate[peak_index]\n",
    "        reaction_string = gas.reaction_equations(C2H6_reaction_indices)[i]\n",
    "\n",
    "        if abs(peak_C2H6_production)>annotation_cutoff:\n",
    "            plt.annotate((reaction_string).replace('2','$_2$').replace('<=>','='),\n",
    "                         xy=(peak_time, peak_C2H6_production),\n",
    "                         xytext=(peak_time*2, (peak_C2H6_production +\n",
    "                                               0.003*(peak_C2H6_production/abs(peak_C2H6_production)) * \\\n",
    "                                               (abs(peak_C2H6_production)>0.005) * \\\n",
    "                                               (peak_C2H6_production<0.06) )\n",
    "                                              ),\n",
    "                         arrowprops=dict(arrowstyle=\"->\",\n",
    "                                        color='black',\n",
    "                                        relpos=(0,0.6),\n",
    "                                        linewidth=2,),\n",
    "                         horizontalalignment='left',\n",
    "                        )\n",
    "\n",
    "\n",
    "    plt.xlabel('Time (s)',fontsize=16)\n",
    "    plt.ylabel('Net rates of C2H6 production',fontsize=16)\n",
    "    plt.tight_layout()\n",
    "    plt.show()"
   ]
  },
  {
   "cell_type": "markdown",
   "metadata": {},
   "source": [
    "### Integrating over time using `scipy.integrate.cumptraz` "
   ]
  },
  {
   "cell_type": "code",
   "execution_count": 16,
   "metadata": {
    "scrolled": false
   },
   "outputs": [],
   "source": [
    "from scipy import integrate\n",
    "integrated_fluxes = integrate.cumtrapz(np.array(profiles['C2H6_production_rates']), \n",
    "                                             np.array(profiles['time']), \n",
    "                                             axis=0,\n",
    "                                      initial=0)"
   ]
  },
  {
   "cell_type": "markdown",
   "metadata": {},
   "source": [
    "### Plot  integrated fluxes"
   ]
  },
  {
   "cell_type": "code",
   "execution_count": 17,
   "metadata": {},
   "outputs": [
    {
     "data": {
      "application/vnd.jupyter.widget-view+json": {
       "model_id": "c5e0f730e35444c581ba6de3cad2373a",
       "version_major": 2,
       "version_minor": 0
      },
      "text/plain": [
       "A Jupyter Widget"
      ]
     },
     "metadata": {},
     "output_type": "display_data"
    }
   ],
   "source": [
    "@interact(annotation_cutoff=widgets.FloatSlider(value=1e-6,min=1e-6,max=1e-4,steps=100),\n",
    "         profiles=widgets.fixed(profiles),\n",
    "         integrated_fluxes=widgets.fixed(integrated_fluxes))\n",
    "def plot_integrated_fluxes(profiles,integrated_fluxes,annotation_cutoff):\n",
    "    profiles = profiles\n",
    "    integrated_fluxes = integrated_fluxes\n",
    "    fig = plt.figure(figsize=(6,6),dpi=100)\n",
    "    plt.plot(\n",
    "    profiles['time'],\n",
    "    integrated_fluxes)\n",
    "    final_time = profiles['time'][-1]\n",
    "    for i, C2H6_production in enumerate(integrated_fluxes.T):\n",
    "        total_C2H6_production = C2H6_production[-1]\n",
    "        reaction_string = gas.reaction_equations(C2H6_reaction_indices)[i]\n",
    "\n",
    "        if abs(total_C2H6_production)>annotation_cutoff:\n",
    "            plt.text(final_time*1.06, total_C2H6_production, reaction_string)\n",
    "\n",
    "    plt.xlabel('Time (s)',fontsize=16)\n",
    "    plt.ylabel('Integrated net rate of progress',fontsize=16)\n",
    "    plt.title(\"Cumulative C2H6 formation in flowtube\",fontsize=16)\n",
    "    plt.tight_layout()\n",
    "    #plt.savefig('plots/cumulative_NO_flux.pdf')\n",
    "    plt.show()"
   ]
  },
  {
   "cell_type": "code",
   "execution_count": null,
   "metadata": {
    "collapsed": true
   },
   "outputs": [],
   "source": []
  },
  {
   "cell_type": "code",
   "execution_count": null,
   "metadata": {
    "collapsed": true
   },
   "outputs": [],
   "source": [
    "plot_integrated_fluxes(profiles=profiles,integrated_fluxes=integrated_fluxes,annotation_cutoff=1e-6)"
   ]
  },
  {
   "cell_type": "code",
   "execution_count": 14,
   "metadata": {},
   "outputs": [
    {
     "ename": "SyntaxError",
     "evalue": "invalid syntax (<ipython-input-14-602190c97fcb>, line 2)",
     "output_type": "error",
     "traceback": [
      "\u001b[0;36m  File \u001b[0;32m\"<ipython-input-14-602190c97fcb>\"\u001b[0;36m, line \u001b[0;32m2\u001b[0m\n\u001b[0;31m    plot_instantaneous_fluxes(profiles=profiles,annonation_cutoff=1e-2)\u001b[0m\n\u001b[0m                            ^\u001b[0m\n\u001b[0;31mSyntaxError\u001b[0m\u001b[0;31m:\u001b[0m invalid syntax\n"
     ]
    }
   ],
   "source": [
    "@interact(annotation_cutoff=widgets.FloatSlider(value=1e-2),min=1e-8,max=1e2,steps=1e1)\n",
    "plot_instantaneous_fluxes(profiles=profiles,annonation_cutoff=1e-2)"
   ]
  },
  {
   "cell_type": "code",
   "execution_count": 16,
   "metadata": {
    "collapsed": true
   },
   "outputs": [],
   "source": [
    "widgets.fixed?"
   ]
  },
  {
   "cell_type": "markdown",
   "metadata": {},
   "source": []
  },
  {
   "cell_type": "code",
   "execution_count": 9,
   "metadata": {
    "collapsed": true
   },
   "outputs": [],
   "source": []
  },
  {
   "cell_type": "code",
   "execution_count": 20,
   "metadata": {},
   "outputs": [
    {
     "data": {
      "text/plain": [
       "array([177, 178, 179, 181, 185, 186, 187, 188, 189, 194, 197, 198, 207,\n",
       "       211, 212, 213, 214, 215, 221, 223, 225, 227, 228, 243, 244, 245,\n",
       "       246, 247, 248, 249, 250, 251, 252, 253, 254, 255, 257, 273, 280, 282])"
      ]
     },
     "execution_count": 20,
     "metadata": {},
     "output_type": "execute_result"
    }
   ],
   "source": [
    "NO_reaction_indices"
   ]
  },
  {
   "cell_type": "code",
   "execution_count": 12,
   "metadata": {},
   "outputs": [
    {
     "data": {
      "text/plain": [
       "1461"
      ]
     },
     "execution_count": 12,
     "metadata": {},
     "output_type": "execute_result"
    }
   ],
   "source": []
  },
  {
   "cell_type": "code",
   "execution_count": 8,
   "metadata": {},
   "outputs": [
    {
     "name": "stdout",
     "output_type": "stream",
     "text": [
      "<built-in method reaction_equation of Solution object at 0x114383b38>\n"
     ]
    }
   ],
   "source": [
    "print (gas.reaction_equation)"
   ]
  }
 ],
 "metadata": {
  "kernelspec": {
   "display_name": "Python 3",
   "language": "python",
   "name": "python3"
  },
  "language_info": {
   "codemirror_mode": {
    "name": "ipython",
    "version": 3
   },
   "file_extension": ".py",
   "mimetype": "text/x-python",
   "name": "python",
   "nbconvert_exporter": "python",
   "pygments_lexer": "ipython3",
   "version": "3.5.4"
  }
 },
 "nbformat": 4,
 "nbformat_minor": 2
}
