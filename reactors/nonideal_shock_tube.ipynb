{
 "cells": [
  {
   "cell_type": "markdown",
   "metadata": {},
   "source": [
    "# Non-Ideal Shock Tube Example\n",
    "In this example we will illustrate how to setup and use a constant volume, adiabatic reactor to simulate reflected shock tube experiments. This reactor will then be used to compute the ignition delay of a gas at any temperature and pressure.\n",
    "\n",
    "The example very explicitly follows the form set in `batch_reactor_ignition_delay_NTC.pynb`, which does very similar calculations, but with an `IdealGasReactor`. This example generalizes that work to use a `Reactor` with no pre-assumed EoS. One can also run ideal gas phases through this simulation, simply by specifying an input file with that thermodynamic EoS.\n",
    "\n",
    "Other than the typical Cantera dependencies, plotting functions require that you have matplotlib installed, and data storing and analysis requires pandas. See https://matplotlib.org/ and https://pandas.pydata.org/index.html, respectively, for additional info.\n",
    " \n",
    "The example here demonstrates the calculations carried out by G. Kogekar, et al., \"Impact of non-ideal behavior on ignition delay and chemical kinetics in high-pressure shock tube reactors,\" Combust. Flame., 2018, https://doi.org/10.1016/j.combustflame.2017.10.014\n",
    "\n",
    "The reflected shock tube reactor is modeled as a closed, constant-volume, adiabatic reactor. The heat transfer and the work rates are therefore both zero. With no mass inlets or exits, the 1st law energy balance reduces to:\n",
    "\n",
    "\\begin{equation*}\n",
    "\\frac{dU}{dt} = \\dot{Q} - \\dot{W} = 0.\n",
    "\\end{equation*}\n",
    " \n",
    "Because of the constant-mass and constant-volume assumptions, the density is also therefore constant:\n",
    "\n",
    "\\begin{equation*}\n",
    "\\frac{d\\rho}{dt} = 0.\n",
    "\\end{equation*}\n",
    "\n",
    "Along with the evolving gas composition, the thermodynamic state of the gas is defined by the initial total internal energy $U = mu = m\\sum_k\\left(Y_k u_k\\right)$, where $u_k$ and $Y_k$ are the specific internal energy (kJ/kg) and mass fraction of species $k$, respectively. \n",
    "\n",
    "The species mass fractions evolve according to the net chemical production rates due to homogeneous gas-phase reactions:\n",
    "\n",
    "\\begin{equation*}\n",
    "\\frac{dY_k}{dt} = \\frac{W_k}{\\rho}\\dot{\\omega}_k,\n",
    "\\end{equation*}\n",
    "\n",
    "where $W_k$ is the molecular weight of species $k$ $\\left({\\rm kg}\\,{\\rm kmol}^{-3}\\right)$, $\\rho$ is the (constant) gas-phase density $\\left({\\rm kg}\\,{\\rm m^{-3}}\\right)$, and $\\dot{\\omega}_k$ is the net production rate of species $k$ $\\left({\\rm kmol}\\,{\\rm m^{-3}}\\,{\\rm s^{-1}}\\right)$."
   ]
  },
  {
   "cell_type": "code",
   "execution_count": null,
   "metadata": {},
   "outputs": [],
   "source": [
    "import pandas as pd\n",
    "import numpy as np\n",
    "\n",
    "import time\n",
    "\n",
    "import cantera as ct\n",
    "\n",
    "print(f\"Runnning Cantera version: {ct.__version__}\")"
   ]
  },
  {
   "cell_type": "code",
   "execution_count": null,
   "metadata": {},
   "outputs": [],
   "source": [
    "%matplotlib inline\n",
    "import matplotlib.pyplot as plt\n",
    "\n",
    "plt.rcParams[\"axes.labelsize\"] = 16\n",
    "plt.rcParams[\"xtick.labelsize\"] = 12\n",
    "plt.rcParams[\"ytick.labelsize\"] = 12\n",
    "plt.rcParams[\"figure.autolayout\"] = True"
   ]
  },
  {
   "cell_type": "markdown",
   "metadata": {},
   "source": [
    "### Define the gas\n",
    "\n",
    "In this example we will choose a stoichiometric mixture of n-dodecane and air as the gas. For a representative kinetic model, we use that developed by Wang, Ra, Jia, and Reitz (https://www.erc.wisc.edu/chem_mech/nC12-PAH_mech.zip) by [H.Wang, Y.Ra, M.Jia, R.Reitz, Development of a reduced n-dodecane-PAH mechanism and its application for n-dodecane soot predictions, $Fuel$ 136 (2014) 25–36].\n",
    "\n",
    "To fun a different model or use a different EoS, simply replace this cti file with a different mechanism file."
   ]
  },
  {
   "cell_type": "code",
   "execution_count": null,
   "metadata": {},
   "outputs": [],
   "source": [
    "gas = ct.Solution(\"../data/WangMechanismRK.yaml\")"
   ]
  },
  {
   "cell_type": "markdown",
   "metadata": {},
   "source": [
    "### Define reactor conditions : temperature, pressure, fuel, stoichiometry"
   ]
  },
  {
   "cell_type": "code",
   "execution_count": null,
   "metadata": {},
   "outputs": [],
   "source": [
    "# Define the reactor temperature and pressure:\n",
    "reactor_temperature = 1000  # Kelvin\n",
    "reactor_pressure = 40.0 * 101325.0  # Pascal\n",
    "\n",
    "# Set the state of the gas object:\n",
    "gas.TP = reactor_temperature, reactor_pressure\n",
    "\n",
    "# Define the fuel, oxidizer and set the stoichiometry:\n",
    "gas.set_equivalence_ratio(phi=1.0, fuel=\"c12h26\", oxidizer={\"o2\": 1.0, \"n2\": 3.76})\n",
    "\n",
    "# Create a reactor object and add it to a reactor network\n",
    "# In this example, this will be the only reactor in the network\n",
    "r = ct.Reactor(contents=gas)\n",
    "reactor_network = ct.ReactorNet([r])\n",
    "# Create a SolutionArray to store the solution data\n",
    "time_history = ct.SolutionArray(gas, extra=\"time\")"
   ]
  },
  {
   "cell_type": "markdown",
   "metadata": {},
   "source": [
    "### Define useful functions"
   ]
  },
  {
   "cell_type": "code",
   "execution_count": null,
   "metadata": {},
   "outputs": [],
   "source": [
    "def ignition_delay(df, species):\n",
    "    \"\"\"\n",
    "    This function computes the ignition delay from the occurence of the\n",
    "    peak in species' concentration.\n",
    "    \"\"\"\n",
    "    return df[species].idxmax()"
   ]
  },
  {
   "cell_type": "code",
   "execution_count": null,
   "metadata": {},
   "outputs": [],
   "source": [
    "# Tic\n",
    "t0 = time.time()\n",
    "\n",
    "# This is a starting estimate. If you do not get an ignition within this time, increase it\n",
    "estimated_ignition_delay_time = 0.005\n",
    "t = 0\n",
    "\n",
    "counter = 1\n",
    "while t < estimated_ignition_delay_time:\n",
    "    t = reactor_network.step()\n",
    "    if counter % 20 == 0:\n",
    "        # We will save only every 20th value. Otherwise, this takes too long\n",
    "        # Note that the species concentrations are mass fractions\n",
    "        time_history.append(state=r.thermo.state, time=t)\n",
    "    counter += 1\n",
    "\n",
    "# We will use the 'oh' species to compute the ignition delay\n",
    "# Since 'ignition_delay' operates on a pandas DataFrame, we must\n",
    "# convert the SolutionArray to a DataFrame and set the 'time'\n",
    "# column as the DataFrame index\n",
    "time_history_df = time_history.to_pandas().set_index(\"time\")\n",
    "tau = ignition_delay(time_history_df, \"Y_oh\")\n",
    "# Toc\n",
    "t1 = time.time()\n",
    "\n",
    "print(f\"Computed Ignition Delay: {tau:.3e} seconds. Took {t1 - t0:3.2f}s to compute\")\n",
    "\n",
    "# If you want to save all the data - molefractions, temperature, pressure, etc\n",
    "# uncomment the next line\n",
    "# time_history.to_csv(\"time_history.csv\")"
   ]
  },
  {
   "cell_type": "markdown",
   "metadata": {},
   "source": [
    "## Plot the result"
   ]
  },
  {
   "cell_type": "markdown",
   "metadata": {},
   "source": [
    "### Figure illustrating the definition of ignition delay"
   ]
  },
  {
   "cell_type": "code",
   "execution_count": null,
   "metadata": {},
   "outputs": [],
   "source": [
    "fig, ax = plt.subplots(figsize=(10, 6))\n",
    "ax.plot(time_history_df.index, time_history_df[\"Y_oh\"], \"-o\", color=\"b\", markersize=4)\n",
    "ax.set_xlabel(\"Time (s)\")\n",
    "ax.set_ylabel(r\"$\\mathdefault{OH\\, mass\\, fraction,}\\,  Y_{OH}}$\")\n",
    "\n",
    "# Figure formatting:\n",
    "ax.set_xlim([0, 0.00075])\n",
    "ax.annotate(\n",
    "    \"\",\n",
    "    xy=(tau, 0.005),\n",
    "    xytext=(0, 0.005),\n",
    "    arrowprops=dict(arrowstyle=\"<|-|>\", color=\"r\", linewidth=2.0),\n",
    "    fontsize=14,\n",
    ")\n",
    "ax.annotate(\n",
    "    \"Ignition Delay Time (IDT)\",\n",
    "    xy=(0, 0),\n",
    "    xytext=(0.00004, 0.00525),\n",
    "    fontsize=16,\n",
    ");"
   ]
  },
  {
   "cell_type": "markdown",
   "metadata": {},
   "source": [
    "## Illustration : NTC behavior\n",
    "In the paper by Kogekar, et al., the reactor model is used to demonstrate the impacts of non-ideal behavior on IDTs in the **N**egative **T**emperature **C**oefficient region, where observed IDTs, counter to intuition, increase with increasing temperature."
   ]
  },
  {
   "cell_type": "markdown",
   "metadata": {},
   "source": [
    "### Define the temperatures for which we will run the simulations"
   ]
  },
  {
   "cell_type": "code",
   "execution_count": null,
   "metadata": {},
   "outputs": [],
   "source": [
    "# Make a list of all the temperatures we would like to run simulations at\n",
    "inverse_T = np.hstack(\n",
    "    (\n",
    "        np.linspace(0.6, 0.8, num=3),\n",
    "        np.linspace(0.9, 1.1, num=9),\n",
    "        np.linspace(1.15, 1.4, num=6),\n",
    "    )\n",
    ")\n",
    "T = 1000.0 / inverse_T\n",
    "\n",
    "# Set the initial guesses to a common value.  We could probably speed up simulations\n",
    "# by tuning this guess, but as seen in the figure above, the 'extra' time after igntion\n",
    "# does not add many data points or simulation steps. The time savings would be small.\n",
    "estimated_ignition_delay_times = np.ones_like(T) * 0.005\n",
    "\n",
    "# Now create a SolutionArray\n",
    "ignition_delays = ct.SolutionArray(\n",
    "    gas, shape=T.shape, extra={\"tau\": estimated_ignition_delay_times}\n",
    ")\n",
    "ignition_delays.TP = T, 40.0 * 101325.0\n",
    "ignition_delays.set_equivalence_ratio(\n",
    "    phi=1.0, fuel=\"c12h26\", oxidizer={\"o2\": 1.0, \"n2\": 3.76}\n",
    ")\n",
    "ignition_delays._extra"
   ]
  },
  {
   "cell_type": "markdown",
   "metadata": {},
   "source": [
    "Run the code above for each temperature, and save the IDT for each."
   ]
  },
  {
   "cell_type": "code",
   "execution_count": null,
   "metadata": {},
   "outputs": [],
   "source": [
    "for i, state in enumerate(ignition_delays):\n",
    "    # Set up the gas and reactor\n",
    "    gas.TPX = state.TPX\n",
    "    r = ct.Reactor(contents=gas)\n",
    "    reactor_network = ct.ReactorNet([r])\n",
    "    time_history = []\n",
    "    Y_oh_history = []\n",
    "\n",
    "    t0 = time.time()\n",
    "    t = 0\n",
    "    counter = 0\n",
    "\n",
    "    while t < ignition_delays._extra[\"tau\"][i]:\n",
    "        t = reactor_network.step()\n",
    "        if not counter % 20:\n",
    "            time_history.append(t)\n",
    "            Y_oh_history.append(r.thermo.Y[gas.species_index(\"oh\")])\n",
    "        counter += 1\n",
    "\n",
    "    tau = time_history[np.array(Y_oh_history).argmax()]\n",
    "    t1 = time.time()\n",
    "\n",
    "    print(\n",
    "        f\"Computed Ignition Delay: {tau:.3e} seconds for T={state.T}K. Took {t1 - t0:3.2f}s to compute\"\n",
    "    )\n",
    "\n",
    "    ignition_delays._extra[\"tau\"][i] = tau"
   ]
  },
  {
   "cell_type": "markdown",
   "metadata": {},
   "source": [
    "### Figure: ignition delay ($\\tau$) vs. the inverse of temperature ($\\frac{1000}{T}$). "
   ]
  },
  {
   "cell_type": "code",
   "execution_count": null,
   "metadata": {},
   "outputs": [],
   "source": [
    "fig, ax = plt.subplots(figsize=(10, 6))\n",
    "ax.semilogy(1000 / ignition_delays.T, ignition_delays.tau, \"o-\", color=\"b\")\n",
    "ax.set_ylabel(\"Ignition Delay (s)\", fontsize=16)\n",
    "ax.set_xlabel(r\"$\\mathdefault{1000/T\\, (K^{-1})}$\", fontsize=16)\n",
    "\n",
    "# Add a second axis on top to plot the temperature for better readability\n",
    "ax2 = ax.twiny()\n",
    "ticks = ax.get_xticks()\n",
    "ax2.set_xticks(ticks)\n",
    "ax2.set_xticklabels((1000 / ticks).round(1))\n",
    "ax2.set_xlim(ax.get_xlim())\n",
    "ax2.set_xlabel(\"Temperature (K)\", fontsize=16);"
   ]
  }
 ],
 "metadata": {
  "kernelspec": {
   "display_name": "Python 3 (ipykernel)",
   "language": "python",
   "name": "python3"
  },
  "language_info": {
   "codemirror_mode": {
    "name": "ipython",
    "version": 3
   },
   "file_extension": ".py",
   "mimetype": "text/x-python",
   "name": "python",
   "nbconvert_exporter": "python",
   "pygments_lexer": "ipython3",
   "version": "3.9.10"
  }
 },
 "nbformat": 4,
 "nbformat_minor": 4
}
