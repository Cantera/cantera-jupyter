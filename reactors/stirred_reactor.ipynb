{
 "cells": [
  {
   "cell_type": "markdown",
   "metadata": {},
   "source": [
    "## Continuous Reactor \n",
    "In this example we will illustrate how Cantera can be used to simulate a Continuously Stirred Tank Reactor (CSTR), also interchangeably referred to as a Perfectly Stirred Reactor or a Well Stirred Reactor, a Jet Stirred Reactor or a Longwell Reactor (there may well be more \"aliases\").\n",
    "\n",
    "A cartoon of such a reactor is shown below:\n",
    "\n",
    "<img src=\"images/stirredReactorCartoon.png\" alt=\"Cartoon of a Stirred Reactor\" style=\"width: 300px;\"/>\n",
    "\n",
    "### Simulation of a CSTR/PSR/WSR \n",
    "As the figure illustrates, this is an open system (unlike a Batch Reactor which is isolated). P, V and T are the reactor's pressure, volume and temperature respectively. The mass flow rate at which reactants come in is the same as that of the products which exit; and these stay in the reactor for a characteristic time $\\tau$, called the *residence time*. This is a key quantity in sizing the reactor and is defined as follows:\n",
    "\n",
    "\\begin{equation*}\n",
    "\\tau = \\frac{m}{\\dot{m}}\n",
    "\\end{equation*}\n",
    "\n",
    "where $m$ is the mass of the gas"
   ]
  },
  {
   "cell_type": "code",
   "execution_count": 1,
   "metadata": {},
   "outputs": [
    {
     "name": "stdout",
     "output_type": "stream",
     "text": [
      "Running Cantera version: 2.6.0a4\n"
     ]
    }
   ],
   "source": [
    "import pandas as pd\n",
    "import time\n",
    "import cantera as ct\n",
    "\n",
    "print(f\"Running Cantera version: {ct.__version__}\")"
   ]
  },
  {
   "cell_type": "markdown",
   "metadata": {},
   "source": [
    "### Import modules and set plotting defaults"
   ]
  },
  {
   "cell_type": "code",
   "execution_count": 2,
   "metadata": {},
   "outputs": [],
   "source": [
    "%matplotlib inline\n",
    "import matplotlib.pyplot as plt\n",
    "\n",
    "plt.style.use(\"ggplot\")\n",
    "plt.style.use(\"seaborn-pastel\")\n",
    "\n",
    "plt.rcParams[\"axes.labelsize\"] = 18\n",
    "plt.rcParams[\"xtick.labelsize\"] = 14\n",
    "plt.rcParams[\"ytick.labelsize\"] = 14\n",
    "plt.rcParams[\"figure.autolayout\"] = True"
   ]
  },
  {
   "cell_type": "markdown",
   "metadata": {},
   "source": [
    "### Define the gas\n",
    "In this example, we will work with $nC_{7}H_{16}$/$O_{2}$/$He$ mixtures, for which experimental data can be found in the paper by [Zhang et al.](http://dx.doi.org/10.1016/j.combustflame.2015.08.001). We will use the same mechanism reported in the paper. It consists of 1268 species and 5336 reactions"
   ]
  },
  {
   "cell_type": "code",
   "execution_count": 3,
   "metadata": {},
   "outputs": [
    {
     "name": "stdout",
     "output_type": "stream",
     "text": [
      "CanteraWarning: NasaPoly2::validate: \n",
      "For species OHV, discontinuity in h/RT detected at Tmid = 1000.0\n",
      "\tValue computed using low-temperature polynomial:  53.62056162666667\n",
      "\tValue computed using high-temperature polynomial: 53.5841554314\n",
      "\n",
      "CanteraWarning: NasaPoly2::validate: \n",
      "For species CHV, discontinuity in h/RT detected at Tmid = 1000.0\n",
      "\tValue computed using low-temperature polynomial:  107.5046684\n",
      "\tValue computed using high-temperature polynomial: 107.34847808033334\n",
      "\n"
     ]
    }
   ],
   "source": [
    "gas = ct.Solution(\"../data/galway.yaml\")"
   ]
  },
  {
   "cell_type": "markdown",
   "metadata": {},
   "source": [
    "### Define initial conditions\n",
    "#### Inlet conditions for the gas and reactor parameters"
   ]
  },
  {
   "cell_type": "code",
   "execution_count": 4,
   "metadata": {},
   "outputs": [],
   "source": [
    "# Inlet gas conditions\n",
    "reactor_temperature = 925  # Kelvin\n",
    "reactor_pressure = 1.046138 * ct.one_atm  # in atm. This equals 1.06 bars\n",
    "inlet_concentrations = {\"NC7H16\": 0.005, \"O2\": 0.0275, \"HE\": 0.9675}\n",
    "gas.TPX = reactor_temperature, reactor_pressure, inlet_concentrations\n",
    "\n",
    "# Reactor parameters\n",
    "residence_time = 2  # s\n",
    "reactor_volume = 30.5 * (1e-2) ** 3  # m3"
   ]
  },
  {
   "cell_type": "markdown",
   "metadata": {},
   "source": [
    "#### Simulation parameters"
   ]
  },
  {
   "cell_type": "code",
   "execution_count": 5,
   "metadata": {},
   "outputs": [],
   "source": [
    "# Simulation termination criterion\n",
    "max_simulation_time = 50  # seconds"
   ]
  },
  {
   "cell_type": "markdown",
   "metadata": {},
   "source": [
    "### Reactor arrangement\n",
    "\n",
    "We showed a cartoon of the reactor in the first figure in this notebook; but to actually simulate that, we need a few peripherals. A mass-flow controller upstream of the stirred reactor will allow us to flow gases in, and in-turn, a \"reservoir\" which simulates a gas tank is required to supply gases to the mass flow controller. Downstream of the reactor, we install a pressure regulator which allows the reactor pressure to stay within. Downstream of the regulator we will need another reservoir which acts like a \"sink\" or capture tank to capture all exhaust gases (even our simulations are environmentally friendly !). This arrangment is illustrated below\n",
    "\n",
    "<img src=\"images/stirredReactorCanteraSimulation.png\" alt=\"Cartoon of a Stirred Reactor\" style=\"width: 600px;\"/>"
   ]
  },
  {
   "cell_type": "markdown",
   "metadata": {},
   "source": [
    "#### Initialize the stirred reactor and connect all peripherals"
   ]
  },
  {
   "cell_type": "code",
   "execution_count": 6,
   "metadata": {},
   "outputs": [],
   "source": [
    "fuel_air_mixture_tank = ct.Reservoir(gas)\n",
    "exhaust = ct.Reservoir(gas)\n",
    "\n",
    "stirred_reactor = ct.IdealGasReactor(gas, energy=\"off\", volume=reactor_volume)\n",
    "\n",
    "mass_flow_controller = ct.MassFlowController(\n",
    "    upstream=fuel_air_mixture_tank,\n",
    "    downstream=stirred_reactor,\n",
    "    mdot=stirred_reactor.mass / residence_time,\n",
    ")\n",
    "\n",
    "pressure_regulator = ct.PressureController(\n",
    "    upstream=stirred_reactor, downstream=exhaust, master=mass_flow_controller\n",
    ")\n",
    "\n",
    "reactor_network = ct.ReactorNet([stirred_reactor])"
   ]
  },
  {
   "cell_type": "code",
   "execution_count": 7,
   "metadata": {},
   "outputs": [],
   "source": [
    "# Create a SolutionArray to store the data\n",
    "time_history = ct.SolutionArray(gas, extra=[\"t\"])\n",
    "\n",
    "# Set the maximum simulation time\n",
    "max_simulation_time = 50  # seconds"
   ]
  },
  {
   "cell_type": "code",
   "execution_count": 8,
   "metadata": {},
   "outputs": [
    {
     "name": "stdout",
     "output_type": "stream",
     "text": [
      "Simulation Took 43.34s to compute, with 1245 steps\n"
     ]
    }
   ],
   "source": [
    "# Start the stopwatch\n",
    "tic = time.time()\n",
    "\n",
    "# Set simulation start time to zero\n",
    "t = 0\n",
    "counter = 1\n",
    "while t < max_simulation_time:\n",
    "    t = reactor_network.step()\n",
    "\n",
    "    # We will store only every 10th value. Remember, we have 1200+ species, so there will be\n",
    "    # 1200+ columns for us to work with\n",
    "    if counter % 10 == 0:\n",
    "        # Extract the state of the reactor\n",
    "        time_history.append(stirred_reactor.thermo.state, t=t)\n",
    "\n",
    "    counter += 1\n",
    "\n",
    "# Stop the stopwatch\n",
    "toc = time.time()\n",
    "\n",
    "print(f\"Simulation Took {toc-tic:3.2f}s to compute, with {counter} steps\")"
   ]
  },
  {
   "cell_type": "markdown",
   "metadata": {},
   "source": [
    "## Plot the results"
   ]
  },
  {
   "cell_type": "markdown",
   "metadata": {},
   "source": [
    "As a test, we plot the mole fraction of $CO$ and see if the simulation has converged. If not, go back and adjust max. number of steps and/or simulation time"
   ]
  },
  {
   "cell_type": "code",
   "execution_count": 9,
   "metadata": {},
   "outputs": [
    {
     "data": {
      "image/png": "[encoded data removed]",
      "text/plain": [
       "<Figure size 432x288 with 1 Axes>"
      ]
     },
     "metadata": {},
     "output_type": "display_data"
    }
   ],
   "source": [
    "plt.figure()\n",
    "plt.semilogx(time_history.t, time_history(\"CO\").X, \"-o\")\n",
    "plt.xlabel(\"Time (s)\")\n",
    "plt.ylabel(\"Mole Fraction : $X_{CO}$\");"
   ]
  },
  {
   "cell_type": "markdown",
   "metadata": {},
   "source": [
    "## Illustration : Modeling experimental data\n",
    "### Let us see if the reactor can reproduce actual experimental measurements\n",
    "\n",
    "We first load the data. This is also supplied in the paper by [Zhang et al.](http://dx.doi.org/10.1016/j.combustflame.2015.08.001) as an excel sheet"
   ]
  },
  {
   "cell_type": "code",
   "execution_count": 10,
   "metadata": {},
   "outputs": [
    {
     "data": {
      "text/html": [
       "<div>\n",
       "<style scoped>\n",
       "    .dataframe tbody tr th:only-of-type {\n",
       "        vertical-align: middle;\n",
       "    }\n",
       "\n",
       "    .dataframe tbody tr th {\n",
       "        vertical-align: top;\n",
       "    }\n",
       "\n",
       "    .dataframe thead th {\n",
       "        text-align: right;\n",
       "    }\n",
       "</style>\n",
       "<table border=\"1\" class=\"dataframe\">\n",
       "  <thead>\n",
       "    <tr style=\"text-align: right;\">\n",
       "      <th></th>\n",
       "      <th>T</th>\n",
       "      <th>NC7H16</th>\n",
       "      <th>O2</th>\n",
       "      <th>CO</th>\n",
       "      <th>CO2</th>\n",
       "    </tr>\n",
       "  </thead>\n",
       "  <tbody>\n",
       "    <tr>\n",
       "      <th>0</th>\n",
       "      <td>500</td>\n",
       "      <td>0.00507</td>\n",
       "      <td>0.0293</td>\n",
       "      <td>0.000000</td>\n",
       "      <td>0.000000</td>\n",
       "    </tr>\n",
       "    <tr>\n",
       "      <th>1</th>\n",
       "      <td>525</td>\n",
       "      <td>0.00492</td>\n",
       "      <td>0.0286</td>\n",
       "      <td>0.000000</td>\n",
       "      <td>0.000000</td>\n",
       "    </tr>\n",
       "    <tr>\n",
       "      <th>2</th>\n",
       "      <td>550</td>\n",
       "      <td>0.00466</td>\n",
       "      <td>0.0285</td>\n",
       "      <td>0.000000</td>\n",
       "      <td>0.000000</td>\n",
       "    </tr>\n",
       "    <tr>\n",
       "      <th>3</th>\n",
       "      <td>575</td>\n",
       "      <td>0.00416</td>\n",
       "      <td>0.0263</td>\n",
       "      <td>0.000243</td>\n",
       "      <td>0.000101</td>\n",
       "    </tr>\n",
       "    <tr>\n",
       "      <th>4</th>\n",
       "      <td>600</td>\n",
       "      <td>0.00355</td>\n",
       "      <td>0.0233</td>\n",
       "      <td>0.000968</td>\n",
       "      <td>0.000251</td>\n",
       "    </tr>\n",
       "  </tbody>\n",
       "</table>\n",
       "</div>"
      ],
      "text/plain": [
       "     T   NC7H16      O2        CO       CO2\n",
       "0  500  0.00507  0.0293  0.000000  0.000000\n",
       "1  525  0.00492  0.0286  0.000000  0.000000\n",
       "2  550  0.00466  0.0285  0.000000  0.000000\n",
       "3  575  0.00416  0.0263  0.000243  0.000101\n",
       "4  600  0.00355  0.0233  0.000968  0.000251"
      ]
     },
     "execution_count": 10,
     "metadata": {},
     "output_type": "execute_result"
    }
   ],
   "source": [
    "experimental_data = pd.read_csv(\"../data/zhangExpData.csv\")\n",
    "experimental_data.head()"
   ]
  },
  {
   "cell_type": "code",
   "execution_count": 11,
   "metadata": {},
   "outputs": [],
   "source": [
    "# Define all the temperatures at which we will run simulations. These should overlap\n",
    "# with the values reported in the paper as much as possible\n",
    "T = [650, 700, 750, 775, 825, 850, 875, 925, 950, 1075, 1100]\n",
    "\n",
    "# Create a SolutionArray to store values for the above points\n",
    "temp_dependence = ct.SolutionArray(gas)"
   ]
  },
  {
   "cell_type": "markdown",
   "metadata": {},
   "source": [
    "Now we simply run the reactor code we used above for each temperature"
   ]
  },
  {
   "cell_type": "code",
   "execution_count": 12,
   "metadata": {},
   "outputs": [
    {
     "name": "stdout",
     "output_type": "stream",
     "text": [
      "Simulation at T=650K took 49.27s to compute\n",
      "Simulation at T=700K took 32.18s to compute\n",
      "Simulation at T=750K took 19.53s to compute\n",
      "Simulation at T=775K took 19.49s to compute\n",
      "Simulation at T=825K took 26.45s to compute\n",
      "Simulation at T=850K took 29.19s to compute\n",
      "Simulation at T=875K took 25.29s to compute\n",
      "Simulation at T=925K took 24.33s to compute\n",
      "Simulation at T=950K took 23.85s to compute\n",
      "Simulation at T=1075K took 26.68s to compute\n",
      "Simulation at T=1100K took 24.61s to compute\n"
     ]
    }
   ],
   "source": [
    "concentrations = inlet_concentrations\n",
    "\n",
    "for reactor_temperature in T:\n",
    "\n",
    "    # We will use concentrations from the previous iteration to speed up convergence\n",
    "    gas.TPX = reactor_temperature, reactor_pressure, concentrations\n",
    "\n",
    "    stirred_reactor = ct.IdealGasReactor(gas, energy=\"off\", volume=reactor_volume)\n",
    "    fuel_air_mixture_tank = ct.Reservoir(gas)\n",
    "    mass_flow_controller = ct.MassFlowController(\n",
    "        upstream=fuel_air_mixture_tank,\n",
    "        downstream=stirred_reactor,\n",
    "        mdot=stirred_reactor.mass / residence_time,\n",
    "    )\n",
    "    pressure_regulator = ct.PressureController(\n",
    "        upstream=stirred_reactor, downstream=exhaust, master=mass_flow_controller\n",
    "    )\n",
    "    reactor_network = ct.ReactorNet([stirred_reactor])\n",
    "\n",
    "    # Re-run the isothermal simulations\n",
    "    tic = time.time()\n",
    "    reactor_network.advance(max_simulation_time)\n",
    "\n",
    "    toc = time.time()\n",
    "    print(f\"Simulation at T={reactor_temperature}K took {toc-tic:3.2f}s to compute\")\n",
    "\n",
    "    concentrations = stirred_reactor.thermo.X\n",
    "\n",
    "    temp_dependence.append(stirred_reactor.thermo.state)"
   ]
  },
  {
   "cell_type": "markdown",
   "metadata": {},
   "source": [
    "### Compare the model results with experimental data"
   ]
  },
  {
   "cell_type": "code",
   "execution_count": 14,
   "metadata": {},
   "outputs": [
    {
     "data": {
      "image/png": "[encoded data removed]",
      "text/plain": [
       "<Figure size 432x288 with 1 Axes>"
      ]
     },
     "metadata": {},
     "output_type": "display_data"
    }
   ],
   "source": [
    "plt.figure()\n",
    "plt.plot(temp_dependence.T, temp_dependence(\"NC7H16\").X, \"r-\", label=\"$nC_{7}H_{16}$\")\n",
    "plt.plot(temp_dependence.T, temp_dependence(\"CO\").X, \"b-\", label=\"CO\")\n",
    "plt.plot(temp_dependence.T, temp_dependence(\"O2\").X, \"k-\", label=\"O$_{2}$\")\n",
    "\n",
    "plt.plot(\n",
    "    experimental_data[\"T\"],\n",
    "    experimental_data[\"NC7H16\"],\n",
    "    \"ro\",\n",
    "    label=\"$nC_{7}H_{16} (exp)$\",\n",
    ")\n",
    "plt.plot(experimental_data[\"T\"], experimental_data[\"CO\"], \"b^\", label=\"CO (exp)\")\n",
    "plt.plot(experimental_data[\"T\"], experimental_data[\"O2\"], \"ks\", label=\"O$_{2}$ (exp)\")\n",
    "\n",
    "plt.xlabel(\"Temperature (K)\")\n",
    "plt.ylabel(r\"Mole Fractions\")\n",
    "\n",
    "plt.xlim([650, 1100])\n",
    "plt.legend(loc=1);"
   ]
  }
 ],
 "metadata": {
  "kernelspec": {
   "display_name": "Python 3 (ipykernel)",
   "language": "python",
   "name": "python3"
  },
  "language_info": {
   "codemirror_mode": {
    "name": "ipython",
    "version": 3
   },
   "file_extension": ".py",
   "mimetype": "text/x-python",
   "name": "python",
   "nbconvert_exporter": "python",
   "pygments_lexer": "ipython3",
   "version": "3.9.10"
  }
 },
 "nbformat": 4,
 "nbformat_minor": 4
}
