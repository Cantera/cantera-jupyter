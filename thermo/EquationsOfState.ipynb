{
 "cells": [
  {
   "cell_type": "markdown",
   "metadata": {},
   "source": [
    "# Non-ideal equations of state \n",
    "This example demonstrates a comparison between ideal and non-ideal equations of state (EoS) using Cantera and CoolProp. The following equations of state are used to evaluate thermodynamic properties in this example\n",
    "1. Ideal-gas EoS from Cantera\n",
    "2. Non-ideal Redlich-Kwong EoS (R-K EoS) from Cantera\n",
    "3. Helmholtz energy EoS (HEOS) from CoolProp"
   ]
  },
  {
   "cell_type": "markdown",
   "metadata": {},
   "source": [
    "#### Import required packages (Cantera and CoolProp)\n",
    "[CoolProp](http://coolprop.org) [1] is an open-source package that contains a highly-accurate database for thermophysical properties. The thermodynamic properties are obtained using pure and pseudo-pure fluid equations of state implemented for 122 components.\n",
    "\n",
    "> 1. I.H. Bell, J.Wronski, S. Quoilin, V. Lemort, 'Pure and Pseudo-pure Fluid Thermophysical Property Evaluation and the Open-Source Thermophysical Property Library CoolProp,' Industrial & Engineering Chemistry Research 53 (2014), https://pubs.acs.org/doi/10.1021/ie4033999"
   ]
  },
  {
   "cell_type": "code",
   "execution_count": null,
   "metadata": {},
   "outputs": [],
   "source": [
    "import cantera as ct\n",
    "import numpy as np\n",
    "from CoolProp.CoolProp import PropsSI\n",
    "\n",
    "%matplotlib widget\n",
    "import matplotlib.pyplot as plt\n",
    "\n",
    "print(f'Running Cantera version: {ct.__version__}')"
   ]
  },
  {
   "cell_type": "markdown",
   "metadata": {},
   "source": [
    "### Helper functions\n",
    "This example uses CO$_2$ as the only species. The function `get_thermo_Cantera` calculates thermodynamic properties based on the thermodynamic state ($T$, $p$) of the species using Cantera. Applicable phases are `Ideal-gas` and `Redlich-Kwong`. The ideal-gas equation can be stated as\n",
    "\\begin{equation}\n",
    "    pv = RT,\n",
    "\\end{equation}\n",
    "where $p$, $v$ and $T$ represent thermodynamic pressure, molar volume, and the temperature of the gas-phase. $R$ is the universal gas constant. The Redlich-Kwong equation is a cubic, non-ideal equation of state, represented as\n",
    "\\begin{equation}\n",
    "    p=\\frac{RT}{v-b^\\ast}-\\frac{a^\\ast}{v\\sqrt{T}(v+b^\\ast)}.\n",
    "\\end{equation}\n",
    "In this expression, $R$ is the universal gas constant and $v$ is the molar volume. The temperature-dependent van der Waals attraction parameter $a^\\ast$ and volume correction parameter (repulsive parameter) $b^\\ast$ represent molecular interactions.\n",
    "\n",
    "The function `get_thermo_CoolProp` utilizes the CoolProp package to evaluate thermodynamic properties based on the thermodynamic state ($T$, $p$) for a given fluid. The HEOS for CO$_2$ used in this example is obtained from http://www.coolprop.org/fluid_properties/fluids/CarbonDioxide.html.\n",
    "\n",
    "Since the standard-reference thermodynamic states are different for Cantera and CoolProp, it is necessary to convert these values to an appropriate scale before comparison. Therefore, both functions `get_thermo_Cantera` and `get_thermo_CoolProp` return the thermodynamic values relative to a reference state at 1 bar, 300 K.\n",
    "\n",
    "To plot the comparison of thermodynamic properties among the three EoS, the `plot` function is used. "
   ]
  },
  {
   "cell_type": "code",
   "execution_count": null,
   "metadata": {},
   "outputs": [],
   "source": [
    "def get_thermo_Cantera(phase, T, p) :\n",
    "    \n",
    "    states = ct.SolutionArray(phase, len(p))\n",
    "    X = 'CO2:1.0'\n",
    "    states.TPX = T, p, X\n",
    "    \n",
    "    u = states.u / 1000\n",
    "    h = states.h / 1000\n",
    "    s = states.s / 1000\n",
    "    cp = states.cp / 1000\n",
    "    cv = states.cv / 1000\n",
    "        \n",
    "    # Get the relative enthalpy, entropy and int. energy with reference to the first point\n",
    "    u = u - u[0]    \n",
    "    s = s - s[0]    \n",
    "    h = h - h[0]\n",
    "        \n",
    "    return h, u, s, cp, cv\n",
    "\n",
    "def get_thermo_CoolProp(T, p) :\n",
    "\n",
    "    u = np.zeros_like(p)\n",
    "    h = np.zeros_like(p)\n",
    "    s = np.zeros_like(p)\n",
    "    cp = np.zeros_like(p)\n",
    "    cv = np.zeros_like(p)\n",
    "\n",
    "    for i in range(p.shape[0]):\n",
    "\n",
    "        u[i] = PropsSI(\"U\",\"P\", p[i],\"T\", T,\"CO2\")\n",
    "        h[i] = PropsSI(\"H\",\"P\", p[i],\"T\", T,\"CO2\")\n",
    "        s[i] = PropsSI(\"S\",\"P\", p[i],\"T\", T,\"CO2\")\n",
    "        cp[i] = PropsSI(\"C\",\"P\", p[i],\"T\", T,\"CO2\")\n",
    "        cv[i] = PropsSI(\"O\",\"P\", p[i],\"T\", T,\"CO2\")\n",
    "        \n",
    "    # Get the relative enthalpy, entropy and int. energy with reference to the first point\n",
    "    u = (u - u[0]) / 1000\n",
    "    s = (s - s[0]) / 1000\n",
    "    h = (h - h[0]) / 1000\n",
    "    cp = cp / 1000\n",
    "    cv = cv / 1000\n",
    "        \n",
    "    return h, u, s, cp, cv\n",
    "\n",
    "def plot(T, p, thermo_Ideal, thermo_RK, thermo_CoolProp, name) :\n",
    "\n",
    "    line_width = 3\n",
    "\n",
    "    fig, ax = plt.subplots()\n",
    "    ax.plot(p/1e5, thermo_Ideal, '-', color='b', linewidth=line_width, label=\"Ideal EoS\")\n",
    "    ax.plot(p/1e5, thermo_RK, '-', color='r', linewidth=line_width, label=\"R-K EoS\")\n",
    "    ax.plot(p/1e5, thermo_CoolProp, '-', color='k', linewidth=line_width, label=\"CoolProp\")\n",
    "    ax.set_xlabel('Pressure [bar]')\n",
    "    ax.set_ylabel(name)\n",
    "    ax.legend(prop={'size': 14}, frameon=False)"
   ]
  },
  {
   "cell_type": "markdown",
   "metadata": {},
   "source": [
    "## 1. EoS Comparison based on thermodynamic properties \n",
    "\n",
    "This is the main subroutine that compares and plots the thermodynamic values obtained using three equations of state. "
   ]
  },
  {
   "cell_type": "code",
   "execution_count": null,
   "metadata": {},
   "outputs": [],
   "source": [
    "# Input parameters\n",
    "T = 300  # Temperature is constant [unit: K]\n",
    "p = 1e5 * np.linspace(1, 100, 1000)  # Pressure is varied from 1 to 100 bar [unit: Pa]\n",
    "\n",
    "# Read the ideal-gas phase\n",
    "ideal_gas_phase = ct.Solution('data/co2-thermo.yaml', 'CO2-Ideal', transport=None)\n",
    "h_ideal, u_ideal, s_ideal, cp_ideal, cv_ideal = get_thermo_Cantera(ideal_gas_phase, T, p) \n",
    "\n",
    "# Read the Redlich-Kwong phase\n",
    "redlich_kwong_phase = ct.Solution('data/co2-thermo.yaml', 'CO2-RK', transport=None)\n",
    "h_RK, u_RK, s_RK, cp_RK, cv_RK = get_thermo_Cantera(redlich_kwong_phase, T, p)\n",
    "\n",
    "# Read the thermo data using CoolProp \n",
    "h_CoolProp, u_CoolProp, s_CoolProp, cp_CoolProp, cv_CoolProp = get_thermo_CoolProp(T, p)"
   ]
  },
  {
   "cell_type": "code",
   "execution_count": null,
   "metadata": {},
   "outputs": [],
   "source": [
    "# Plot the results\n",
    "plot(T, p, u_ideal, u_RK, u_CoolProp, \"Relative Internal Energy [kJ/kg]\")\n",
    "plot(T, p, h_ideal, h_RK, h_CoolProp, \"Relative Enthalpy [kJ/kg]\")\n",
    "plot(T, p, s_ideal, s_RK, s_CoolProp, \"Relative Entropy [kJ/kg-K]\")"
   ]
  },
  {
   "cell_type": "markdown",
   "metadata": {},
   "source": [
    "The thermodynamic properties such as internal energy, enthalpy, and entropy are plotted against the operating pressure at a constant temperature $T = 300$ K. The three equations follow each other closely at low pressures ($P < 10$ bar). However, the ideal gas EoS departs significantly from the observed behavior of gases near the critical regime ($P_{\\rm {crit}} = 73.77$ bar).\n",
    "\n",
    "The ideal gas EoS does not consider inter-molecular interactions and the volume occupied by individual gas particles. At low temperatures and high pressures, inter-molecular forces become particularly significant due to a reduction in inter-molecular distances. Additionally, at high density, the volume of individual molecules becomes significant. Both of these factors contribute to the deviation from ideal behavior at high pressures. The cubic Redlich-Kwong EoS, on the other hand, predicts thermodynamic properties accurately near the critical regime. "
   ]
  },
  {
   "cell_type": "code",
   "execution_count": null,
   "metadata": {},
   "outputs": [],
   "source": [
    "# Specific heat at constant pressure\n",
    "plot(T, p, cp_ideal, cp_RK, cp_CoolProp, \"Cp [kJ/kg-K]\")\n",
    "# Specific heat at constant volume\n",
    "plot(T, p, cv_ideal, cv_RK, cv_CoolProp, \"Cv [kJ/kg-K]\")"
   ]
  },
  {
   "cell_type": "markdown",
   "metadata": {},
   "source": [
    "In the case of Ideal gas EoS, the specific heats at constant pressure ($C_{\\rm p}$) and constant volume ($C_{\\rm v}$) are independent of the pressure. Hence, $C_{\\rm p}$ and $C_{\\rm v}$ for ideal EoS do not change as the pressure is varied from $1$ bar to $100$ bar in this study.\n",
    "\n",
    "$C_{\\rm p}$ for the R-K EoS follows the trend closely with the Helmholtz EoS from CoolProp up to the critical regime. Although $C_{\\rm p}$ shows reasonable agreement with the Helmholtz EoS in sub-critical and supercritical regimes, it inaccurately predicts a very high value near the critical point. However, $C_{\\rm p}$ at the critical point is finite for the real fluid. The sudden rise in $C_{\\rm p}$ in the case of the R-K EoS is just a numerical artifact, due to the EoS yielding infinite values in the limiting case, and not a real singularity. \n",
    "\n",
    "$C_{\\rm v}$, on the other hand, predicts smaller values in the subcritical and critical regime. However, it shows completely incorrect values in the super-critical region, making it invalid at very high pressures. It is well known that the cubic equations typically fail to predict accurate constant-volume heat capacity in the transcritical region [2]. Certain cubic EoS models have been extended to resolve this discrepancy using crossover models. For further information, see the work of Span [2] and Saeed et al. [3].\n",
    "\n",
    "> 2. R. Span, 'Multiparameter Equations of State - An Accurate Source of Thermodynamic Property Data', Springer Berlin Heidelberg (2000), https://dx.doi.org/10.1007/978-3-662-04092-8\n",
    "> 3. A. Saeed, S. Ghader, 'Calculation of density, vapor pressure and heat capacity near the critical point by incorporating cubic SRK EoS and crossover translation', Fluid Phase Equilibria (2019) 493, https://doi.org/10.1016/j.fluid.2019.03.027"
   ]
  },
  {
   "cell_type": "markdown",
   "metadata": {},
   "source": [
    "## 2. Temperature-Density plots\n",
    "\n",
    "The following function plots the $T$-$\\rho$ diagram over a wide pressure and temperature range. The temperature is varied from 250 K to 400 K. The pressure is changed from 1 bar to 600 bar."
   ]
  },
  {
   "cell_type": "code",
   "execution_count": null,
   "metadata": {
    "tags": []
   },
   "outputs": [],
   "source": [
    "# Input parameters\n",
    "# Set up arrays for pressure and temperature\n",
    "p_array = np.logspace(1,np.log10(600),10, endpoint = True)\n",
    "T_array = np.linspace(250,401,10)  # Temperature is varied from 250K to 400K  \n",
    "p_array = 1e5*np.array(p_array)[:,np.newaxis]\n",
    "T_p_product = np.stack(np.meshgrid(p_array, T_array), -1).reshape(-1, 2)\n",
    "\n",
    "# Calculate densities for Ideal gas and R-K EoS phases\n",
    "states = ct.SolutionArray(ideal_gas_phase, shape=(p_array.size, T_array.size))\n",
    "states.TP = T_array, p_array\n",
    "density_ideal = states.density_mass\n",
    "\n",
    "states = ct.SolutionArray(redlich_kwong_phase, shape=(p_array.size, T_array.size))\n",
    "states.TP = T_array, p_array\n",
    "density_RK = states.density_mass\n",
    "\n",
    "# Calculate density using CoolProp\n",
    "density_coolprop = np.zeros_like(T_p_product)\n",
    "for i, (p, T) in enumerate(T_p_product):\n",
    "    density_coolprop[i] = PropsSI('D','P', p, 'T', T, 'CO2')\n",
    "density_coolprop = density_coolprop.reshape(T_array.size, -1)\n",
    "\n",
    "# Plot\n",
    "fig, ax = plt.subplots(figsize=(10, 5))\n",
    "ideal_line = ax.plot(density_ideal.T, T_array, '--', label=\"Ideal EoS\")\n",
    "RK_line = ax.plot(density_RK.T, T_array, 'o', label=\"R-K EoS\")\n",
    "CP_line = ax.plot(density_coolprop, T_array, '-', label=\"CoolProp\")\n",
    "ax.text(-25, 320, 'p = 1 [bar]', color='steelblue', rotation = 'vertical', size = '14') \n",
    "ax.text(300, 320, 'p = 97 [bar]', color= 'darkred', size = '14', rotation = '-20') \n",
    "ax.text(925, 320, 'p = 600 [bar]', color='c', size = '14', rotation = '-58') \n",
    "ax.set_xlabel('Density [kg/m3]')\n",
    "ax.set_ylabel('Temperature [K]')\n",
    "ax.legend(handles=[ideal_line[0], RK_line[0], CP_line[0]], prop={'size': 14}, frameon=False);"
   ]
  },
  {
   "cell_type": "markdown",
   "metadata": {},
   "source": [
    "The figure compares $T-\\rho$ plots for ideal, R-K, and Helmholtz EoS at different operating pressures. All three EoS yield the same plots at low pressures (0 bar and 10 bar). However, the Ideal gas EoS departs significantly at high pressures ($P > 10$ bar), where non-ideal effects are prominent. The R-K EoS closely matches the Helmholtz EoS at supercritical pressures ($P \\ge 70$ bar). However, it does depart in the liquid-vapor region that exists at $P < P_{\\rm {crit}}$ and low temperatures (~$T_{\\rm {crit}}$)."
   ]
  }
 ],
 "metadata": {
  "kernelspec": {
   "display_name": "Python 3 (ipykernel)",
   "language": "python",
   "name": "python3"
  },
  "language_info": {
   "codemirror_mode": {
    "name": "ipython",
    "version": 3
   },
   "file_extension": ".py",
   "mimetype": "text/x-python",
   "name": "python",
   "nbconvert_exporter": "python",
   "pygments_lexer": "ipython3",
   "version": "3.9.10"
  }
 },
 "nbformat": 4,
 "nbformat_minor": 4
}
