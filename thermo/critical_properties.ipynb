{
 "cells": [
  {
   "cell_type": "markdown",
   "metadata": {},
   "source": [
    "# Critical Properties\n",
    "---\n",
    "### Print the critical state properties for the fluids for which Cantera has built-in liquid/vapor equations of state.\n",
    "___"
   ]
  },
  {
   "cell_type": "markdown",
   "metadata": {},
   "source": [
    "##### Creating a set of names and identifying them within cantera as species"
   ]
  },
  {
   "cell_type": "code",
   "execution_count": 1,
   "metadata": {
    "collapsed": true,
    "scrolled": true
   },
   "outputs": [],
   "source": [
    "import cantera as ct\n",
    "\n",
    "fluids = {'water': ct.Water(),\n",
    "          'nitrogen': ct.Nitrogen(),\n",
    "          'methane': ct.Methane(),\n",
    "          'hydrogen': ct.Hydrogen(),\n",
    "          'oxygen': ct.Oxygen(),\n",
    "          'carbon dioxide': ct.CarbonDioxide(),\n",
    "          'heptane': ct.Heptane(),\n",
    "          'hfc134a': ct.Hfc134a()\n",
    "          }"
   ]
  },
  {
   "cell_type": "markdown",
   "metadata": {},
   "source": [
    "##### Using the set created, a for loop prints critical state values and outputs them in an organized array with the use of print function"
   ]
  },
  {
   "cell_type": "code",
   "execution_count": 2,
   "metadata": {},
   "outputs": [
    {
     "name": "stdout",
     "output_type": "stream",
     "text": [
      "Critical State Properties\n",
      "               Fluid      Tc [K]     Pc [Pa]          Zc\n",
      "               water        647.3    2.209E+07      0.2333\n",
      "            nitrogen        126.2      3.4E+06      0.2891\n",
      "             methane        190.6    4.599E+06      0.2904\n",
      "            hydrogen        32.94    1.284E+06      0.3013\n",
      "              oxygen        154.6    5.043E+06      0.2879\n",
      "      carbon dioxide        304.2    7.384E+06      0.2769\n",
      "             heptane        537.7     2.62E+06      0.2972\n",
      "             hfc134a        374.2    4.059E+06        0.26\n"
     ]
    }
   ],
   "source": [
    "print('Critical State Properties')\n",
    "print('%20s  %10s  %10s  %10s' % ('Fluid','Tc [K]', 'Pc [Pa]', 'Zc'))\n",
    "for name in fluids:\n",
    "    f = fluids[name]\n",
    "    tc = f.critical_temperature\n",
    "    pc = f.critical_pressure\n",
    "    rc = f.critical_density\n",
    "    mw = f.mean_molecular_weight\n",
    "    zc = pc * mw / (rc * ct.gas_constant * tc)\n",
    "    print('%20s   %10.4g   %10.4G  %10.4G' % (name, tc, pc, zc))"
   ]
  }
 ],
 "metadata": {
  "kernelspec": {
   "display_name": "Python 3",
   "language": "python",
   "name": "python3"
  },
  "language_info": {
   "codemirror_mode": {
    "name": "ipython",
    "version": 3
   },
   "file_extension": ".py",
   "mimetype": "text/x-python",
   "name": "python",
   "nbconvert_exporter": "python",
   "pygments_lexer": "ipython3",
   "version": "3.6.2"
  }
 },
 "nbformat": 4,
 "nbformat_minor": 2
}
