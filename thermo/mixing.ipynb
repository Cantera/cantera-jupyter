{
 "cells": [
  {
   "cell_type": "markdown",
   "metadata": {},
   "source": [
    "# Mixing\n",
    "---\n",
    "##### In this example, air and methane are mixed in stoichiometric proportions using `Quantity` objects. \n",
    "##### This is a simpler, steady-state version of the example ``reactors/mix1.py``*.\n",
    "___"
   ]
  },
  {
   "cell_type": "code",
   "execution_count": 1,
   "metadata": {
    "collapsed": true
   },
   "outputs": [],
   "source": [
    "import cantera as ct\n",
    "gas = ct.Solution('gri30.xml')"
   ]
  },
  {
   "cell_type": "markdown",
   "metadata": {},
   "source": [
    "##### create Stream A as a 'Quantity' object of air with temperature of 300 k and pressure of 1.0 atm at constant enthalpy and pressure"
   ]
  },
  {
   "cell_type": "code",
   "execution_count": 2,
   "metadata": {
    "scrolled": true
   },
   "outputs": [],
   "source": [
    "A = ct.Quantity(gas, constant='HP')\n",
    "A.TPX = 300.0, ct.one_atm, 'O2:0.21, N2:0.78, AR:0.01'"
   ]
  },
  {
   "cell_type": "markdown",
   "metadata": {},
   "source": [
    "##### create Stream B as a 'Quantity' object of methane with temperature of 300 k and pressure of 1.0 atm at constant enthalpy and pressure"
   ]
  },
  {
   "cell_type": "code",
   "execution_count": 3,
   "metadata": {
    "collapsed": true
   },
   "outputs": [],
   "source": [
    "B = ct.Quantity(gas, constant='HP')\n",
    "B.TPX = 300.0, ct.one_atm, 'CH4:1'"
   ]
  },
  {
   "cell_type": "markdown",
   "metadata": {},
   "source": [
    "###### Set the molar flow rates corresponding to stoichiometric reaction, CH4 + 2 O2 -> CO2 + 2 H2O"
   ]
  },
  {
   "cell_type": "code",
   "execution_count": 4,
   "metadata": {
    "collapsed": true
   },
   "outputs": [],
   "source": [
    "A.moles = 1\n",
    "nO2 = A.X[A.species_index('O2')]\n",
    "B.moles = nO2 * 0.5"
   ]
  },
  {
   "cell_type": "markdown",
   "metadata": {},
   "source": [
    "##### Compute the mixed state by adding quantities A and B together"
   ]
  },
  {
   "cell_type": "code",
   "execution_count": 5,
   "metadata": {},
   "outputs": [
    {
     "name": "stdout",
     "output_type": "stream",
     "text": [
      "\n",
      "  gri30:\n",
      "\n",
      "       temperature             300  K\n",
      "          pressure          101325  Pa\n",
      "           density         1.12691  kg/m^3\n",
      "  mean mol. weight         27.7414  amu\n",
      "\n",
      "                          1 kg            1 kmol\n",
      "                       -----------      ------------\n",
      "          enthalpy     -2.5351e+05       -7.033e+06     J\n",
      "   internal energy     -3.4342e+05       -9.527e+06     J\n",
      "           entropy            7222        2.003e+05     J/K\n",
      "    Gibbs function     -2.4201e+06       -6.714e+07     J\n",
      " heat capacity c_p          1070.4         2.97e+04     J/K\n",
      " heat capacity c_v          770.71        2.138e+04     J/K\n",
      "\n",
      "                           X                 Y          Chem. Pot. / RT\n",
      "                     -------------     ------------     ------------\n",
      "                O2       0.190045         0.219211         -26.3342\n",
      "               CH4      0.0950226        0.0549513         -54.6765\n",
      "                N2       0.705882         0.712806         -23.3814\n",
      "                AR     0.00904977        0.0130318         -23.3151\n",
      "     [  +49 minor]              0                0\n",
      "\n"
     ]
    }
   ],
   "source": [
    "M = A + B\n",
    "print(M.report())"
   ]
  },
  {
   "cell_type": "markdown",
   "metadata": {},
   "source": [
    "##### Show that this state corresponds to stoichiometric combustion"
   ]
  },
  {
   "cell_type": "code",
   "execution_count": 6,
   "metadata": {},
   "outputs": [
    {
     "name": "stdout",
     "output_type": "stream",
     "text": [
      "\n",
      "  gri30:\n",
      "\n",
      "       temperature             300  K\n",
      "          pressure          101325  Pa\n",
      "           density         1.12691  kg/m^3\n",
      "  mean mol. weight         27.7414  amu\n",
      "\n",
      "                          1 kg            1 kmol\n",
      "                       -----------      ------------\n",
      "          enthalpy     -3.0024e+06       -8.329e+07     J\n",
      "   internal energy     -3.0924e+06       -8.579e+07     J\n",
      "           entropy          7204.3        1.999e+05     J/K\n",
      "    Gibbs function     -5.1637e+06       -1.432e+08     J\n",
      " heat capacity c_p          1104.2        3.063e+04     J/K\n",
      " heat capacity c_v          804.53        2.232e+04     J/K\n",
      "\n",
      "                           X                 Y          Chem. Pot. / RT\n",
      "                     -------------     ------------     ------------\n",
      "               H2O       0.190045         0.123416         -121.321\n",
      "               CO2      0.0950226         0.150747         -185.827\n",
      "                N2       0.705882         0.712806         -23.3814\n",
      "                AR     0.00904977        0.0130318         -23.3151\n",
      "     [  +49 minor]    1.77109e-19       2.0429e-19\n",
      "\n"
     ]
    }
   ],
   "source": [
    "M.equilibrate('TP')\n",
    "print(M.report())"
   ]
  }
 ],
 "metadata": {
  "kernelspec": {
   "display_name": "Python 3",
   "language": "python",
   "name": "python3"
  },
  "language_info": {
   "codemirror_mode": {
    "name": "ipython",
    "version": 3
   },
   "file_extension": ".py",
   "mimetype": "text/x-python",
   "name": "python",
   "nbconvert_exporter": "python",
   "pygments_lexer": "ipython3",
   "version": "3.6.2"
  }
 },
 "nbformat": 4,
 "nbformat_minor": 2
}
