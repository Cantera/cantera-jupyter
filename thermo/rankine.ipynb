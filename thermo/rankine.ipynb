{
 "cells": [
  {
   "cell_type": "markdown",
   "metadata": {},
   "source": [
    "# Rankine Cycle\n",
    "---\n",
    "### Defines parameters of a Rankine cycle, then returns properties at different states.\n",
    "___"
   ]
  },
  {
   "cell_type": "markdown",
   "metadata": {},
   "source": [
    "##### Set the isentropic efficiency of the pump and turbine as well as the maximum pressure in the cycle"
   ]
  },
  {
   "cell_type": "code",
   "execution_count": 1,
   "metadata": {
    "collapsed": true
   },
   "outputs": [],
   "source": [
    "import cantera as ct\n",
    "\n",
    "# parameters\n",
    "eta_pump = 0.6     # pump isentropic efficiency\n",
    "eta_turbine = 0.8  # turbine isentropic efficiency\n",
    "p_max = 8.0e5       # maximum pressure"
   ]
  },
  {
   "cell_type": "markdown",
   "metadata": {},
   "source": [
    "##### Define adiabatic compression resembling a pump and adiabatic expansion resembling a condenser. These are dependant upon the efficiencies set above"
   ]
  },
  {
   "cell_type": "code",
   "execution_count": 2,
   "metadata": {
    "collapsed": true
   },
   "outputs": [],
   "source": [
    "def pump(fluid, p_final, eta):\n",
    "    \"\"\"Adiabatically pump a fluid to pressure p_final, using\n",
    "    a pump with isentropic efficiency eta.\"\"\"\n",
    "    h0 = fluid.h\n",
    "    s0 = fluid.s\n",
    "    fluid.SP = s0, p_final\n",
    "    h1s = fluid.h\n",
    "    isentropic_work = h1s - h0\n",
    "    actual_work = isentropic_work / eta\n",
    "    h1 = h0 + actual_work\n",
    "    fluid.HP = h1, p_final\n",
    "    return actual_work\n",
    "\n",
    "\n",
    "def expand(fluid, p_final, eta):\n",
    "    \"\"\"Adiabatically expand a fluid to pressure p_final, using\n",
    "    a turbine with isentropic efficiency eta.\"\"\"\n",
    "    h0 = fluid.h\n",
    "    s0 = fluid.s\n",
    "    fluid.SP =s0, p_final\n",
    "    h1s = fluid.h\n",
    "    isentropic_work = h0 - h1s\n",
    "    actual_work = isentropic_work * eta\n",
    "    h1 = h0 - actual_work\n",
    "    fluid.HP = h1, p_final\n",
    "    return actual_work"
   ]
  },
  {
   "cell_type": "markdown",
   "metadata": {},
   "source": [
    "##### Define printState function with parameters of (state, species). "
   ]
  },
  {
   "cell_type": "code",
   "execution_count": 3,
   "metadata": {
    "collapsed": true
   },
   "outputs": [],
   "source": [
    "def printState(n, fluid):\n",
    "    print('\\n***************** State {0} ******************'.format(n))\n",
    "    print(fluid.report())"
   ]
  },
  {
   "cell_type": "markdown",
   "metadata": {},
   "source": [
    "##### Create an object that resembles water for the Rankine cycle"
   ]
  },
  {
   "cell_type": "code",
   "execution_count": 4,
   "metadata": {
    "collapsed": true
   },
   "outputs": [],
   "source": [
    "if __name__ == '__main__':\n",
    "    w = ct.Water()"
   ]
  },
  {
   "cell_type": "markdown",
   "metadata": {},
   "source": [
    "###### Set state 1 with quality of 0 (saturated liquid) and temperature of 300 K"
   ]
  },
  {
   "cell_type": "code",
   "execution_count": 5,
   "metadata": {},
   "outputs": [
    {
     "name": "stdout",
     "output_type": "stream",
     "text": [
      "\n",
      "***************** State 1 ******************\n",
      "\n",
      "  water:\n",
      "\n",
      "       temperature             300  K\n",
      "          pressure         3528.21  Pa\n",
      "           density         996.589  kg/m^3\n",
      "  mean mol. weight          18.016  amu\n",
      "    vapor fraction               0\n",
      "\n",
      "                          1 kg            1 kmol\n",
      "                       -----------      ------------\n",
      "          enthalpy    -1.58582e+07       -2.857e+08     J\n",
      "   internal energy    -1.58582e+07       -2.857e+08     J\n",
      "           entropy          3913.2         7.05e+04     J/K\n",
      "    Gibbs function    -1.70322e+07       -3.069e+08     J\n",
      " heat capacity c_p     8.12688e+07        1.464e+09     J/K\n",
      " heat capacity c_v         4131.03        7.442e+04     J/K\n",
      "\n"
     ]
    }
   ],
   "source": [
    "    w.TX = 300.0, 0.0\n",
    "    h1 = w.h\n",
    "    p1 = w.P\n",
    "    printState(1, w)"
   ]
  },
  {
   "cell_type": "markdown",
   "metadata": {},
   "source": [
    "###### Progress to state 2 through adiabatic compression, determined by p_max. Also calculate work done on pump"
   ]
  },
  {
   "cell_type": "code",
   "execution_count": 6,
   "metadata": {},
   "outputs": [
    {
     "name": "stdout",
     "output_type": "stream",
     "text": [
      "\n",
      "***************** State 2 ******************\n",
      "\n",
      "  water:\n",
      "\n",
      "       temperature         300.143  K\n",
      "          pressure          800000  Pa\n",
      "           density          996.91  kg/m^3\n",
      "  mean mol. weight          18.016  amu\n",
      "    vapor fraction               0\n",
      "\n",
      "                          1 kg            1 kmol\n",
      "                       -----------      ------------\n",
      "          enthalpy    -1.58569e+07       -2.857e+08     J\n",
      "   internal energy    -1.58577e+07       -2.857e+08     J\n",
      "           entropy         3914.98        7.053e+04     J/K\n",
      "    Gibbs function    -1.70319e+07       -3.068e+08     J\n",
      " heat capacity c_p          4178.6        7.528e+04     J/K\n",
      " heat capacity c_v         4127.86        7.437e+04     J/K\n",
      "\n"
     ]
    }
   ],
   "source": [
    "    pump_work = pump(w, p_max, eta_pump)\n",
    "    h2 = w.h\n",
    "    printState(2, w)"
   ]
  },
  {
   "cell_type": "markdown",
   "metadata": {},
   "source": [
    "###### Progress to state 3 through isobaric expansion, determined by quality of 1.0 and p_max"
   ]
  },
  {
   "cell_type": "code",
   "execution_count": 7,
   "metadata": {},
   "outputs": [
    {
     "name": "stdout",
     "output_type": "stream",
     "text": [
      "\n",
      "***************** State 3 ******************\n",
      "\n",
      "  water:\n",
      "\n",
      "       temperature         443.624  K\n",
      "          pressure          800000  Pa\n",
      "           density         4.15875  kg/m^3\n",
      "  mean mol. weight          18.016  amu\n",
      "    vapor fraction               1\n",
      "\n",
      "                          1 kg            1 kmol\n",
      "                       -----------      ------------\n",
      "          enthalpy    -1.32016e+07       -2.378e+08     J\n",
      "   internal energy    -1.33939e+07       -2.413e+08     J\n",
      "           entropy         10182.9        1.835e+05     J/K\n",
      "    Gibbs function     -1.7719e+07       -3.192e+08     J\n",
      " heat capacity c_p     4.61668e+07        8.317e+08     J/K\n",
      " heat capacity c_v         1764.53        3.179e+04     J/K\n",
      "\n"
     ]
    }
   ],
   "source": [
    "    w.PX = p_max, 1.0\n",
    "    h3 = w.h\n",
    "    heat_added = h3 - h2\n",
    "    printState(3, w)"
   ]
  },
  {
   "cell_type": "markdown",
   "metadata": {},
   "source": [
    "###### Progress to state 4 through adiabatic expansion. Also determines work done by turbine"
   ]
  },
  {
   "cell_type": "code",
   "execution_count": 8,
   "metadata": {},
   "outputs": [
    {
     "name": "stdout",
     "output_type": "stream",
     "text": [
      "\n",
      "***************** State 4 ******************\n",
      "\n",
      "  water:\n",
      "\n",
      "       temperature             300  K\n",
      "          pressure         3528.21  Pa\n",
      "           density       0.0305583  kg/m^3\n",
      "  mean mol. weight          18.016  amu\n",
      "    vapor fraction        0.835158\n",
      "\n",
      "                          1 kg            1 kmol\n",
      "                       -----------      ------------\n",
      "          enthalpy    -1.38221e+07        -2.49e+08     J\n",
      "   internal energy    -1.39376e+07       -2.511e+08     J\n",
      "           entropy         10700.1        1.928e+05     J/K\n",
      "    Gibbs function    -1.70322e+07       -3.069e+08     J\n",
      " heat capacity c_p    inf              inf              J/K\n",
      " heat capacity c_v          108455        1.954e+06     J/K\n",
      "\n"
     ]
    }
   ],
   "source": [
    "    turbine_work = expand(w, p1, eta_turbine)\n",
    "    printState(4, w)"
   ]
  },
  {
   "cell_type": "markdown",
   "metadata": {},
   "source": [
    "##### Based on results from the cycle, calculate and print efficiency of the cycle"
   ]
  },
  {
   "cell_type": "code",
   "execution_count": 9,
   "metadata": {},
   "outputs": [
    {
     "name": "stdout",
     "output_type": "stream",
     "text": [
      "efficiency =  0.23320858676798334\n"
     ]
    }
   ],
   "source": [
    "    eff = (turbine_work - pump_work)/heat_added\n",
    "\n",
    "    print('efficiency = ', eff)"
   ]
  }
 ],
 "metadata": {
  "kernelspec": {
   "display_name": "Python 3",
   "language": "python",
   "name": "python3"
  },
  "language_info": {
   "codemirror_mode": {
    "name": "ipython",
    "version": 3
   },
   "file_extension": ".py",
   "mimetype": "text/x-python",
   "name": "python",
   "nbconvert_exporter": "python",
   "pygments_lexer": "ipython3",
   "version": "3.6.2"
  }
 },
 "nbformat": 4,
 "nbformat_minor": 2
}
